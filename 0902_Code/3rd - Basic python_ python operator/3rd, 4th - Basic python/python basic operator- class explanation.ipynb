{
 "cells": [
  {
   "cell_type": "markdown",
   "id": "7becb3aa-92d4-4b6d-9e7b-e8f27d0af7a0",
   "metadata": {},
   "source": [
    "# 1- PYTHON INTRODUCTION -  (TASK - 1)\n",
    "\n",
    "* I hope everybody install Anconda software which i share to you guys right\n",
    "* Just wanted to know how many of know any programming language\n",
    "* If you dont know any programming language then you are the best person to learn PYTHON \n",
    "* python is very easy language\n",
    "* what is python? Ans - python is highly recommanded programming language & object oriented language\n",
    "* Father of python - Guido van Rosam\n",
    "* Python came from fun tv show called ''complete monty python's flying circus'' - broadcasted in BBC channel \n",
    "* Python borrowed all concept from c,c++,java,unix (so python is everything) thats why python very very powerfull tool\n",
    "* Python developed in NRI - (Netherland) & lot of people say that python is new language\n",
    "* Java released on 1995. python was released on 1989 officialy released on (feb 20th 1991)\n",
    "*  It has a large and comprehensive standard library.\n"
   ]
  },
  {
   "cell_type": "markdown",
   "id": "db5654b9-4d32-464b-8679-c0244e11abd4",
   "metadata": {},
   "source": [
    "* Now python is very popular based on software industry requirment because everybody wants to write very less code/concile code\n",
    "* Current market trend is - Machine learing, Artificial intelligence, data science & Iot(Internet of things), genai, llm model, prompt enginner , agenti ai \n",
    "* which companies are used python - google,nasa,uber,netfliz,reddit,facebook/meta, everywhere python used everywhere\n",
    "* python code can understand everybody & python is dynamic programming language\n",
    "* In python everything done by PVM (python virtual machine)\n",
    "* you can access python in any platform independent- windows, linux, mac one code can run in all the 4 platform & no need to  write separate programe for every platform. Once you write code you can run in platform\n",
    "* Python is dynamically programming language (not required to declared data types)\n",
    "* Python is freeware and open source. Moving from one platform to other platform without changeing any code\n",
    "* Python contains rich libray - numpy,pandas so python is the best application for datascience\n",
    "* which scenario python can't be used - ( python can not perform in mobile application like android )\n",
    "* Flavours of python - cpython(C programming),jpython(java programming),Iron python(c#.net),Ruby python(Ruby based application  programme),Anaconda python(Bigdata,datascience)\n",
    "* Python 1.0 introduce in jan 1994 -- Noorganization is working now\n",
    "* Python 2.0 introduce in oct 2000 -- Noorganization is working now\n",
    "* Python 3.0 introduce in Dec 2008, 2016, 2017,2024---- latest version - 3.6, 3.6, 3.7, 3.8, 3.9, 3.10, 3.11, 3.12, 3.13"
   ]
  },
  {
   "cell_type": "markdown",
   "id": "91d4a1e9-eace-4836-a565-afb18af75a40",
   "metadata": {},
   "source": [
    "IDE (INTEGRATED DEVELOPMENT ENVIRONMENT) =>\n",
    "- using IDE - one can write code, run the code, debug the code\n",
    "- IDE takes care of interpreting the Python code, running python scripts, building executables, and debugging the applications.\n",
    "- An IDE enables programmers to combine the different aspects of writing a computer program. \n",
    "- if you wnated to be python developer only then you need to install (IDE -- PYCHARM)"
   ]
  },
  {
   "cell_type": "markdown",
   "id": "ea597def-072d-48ef-baf2-ba41a82abc8b",
   "metadata": {},
   "source": [
    "PYTHON INTERPRETER -->\n",
    "What is Python interpreter?\n",
    "A python interpreter is a computer program that converts each high-level program statement into machine code. An interpreter translates the command that you write out into code that the computer can understand\n",
    "\n",
    "PYTHON INTERPRETER EXAMPLE --> \n",
    "You write your Python code in a text file with a name like hello.py . How does that code Run? There is program installed on your computer named \"python3\" or \"python\", and its job is looking at and running your Python code. This type of program is called an \"interpreter\"."
   ]
  },
  {
   "cell_type": "markdown",
   "id": "d091dfa2-c3e5-4a9e-90ad-65cdef91a06b",
   "metadata": {},
   "source": [
    "Both compilers and interpreters are used to convert a program written in a high-level language into machine code understood by computers.\n",
    "Interpreter -->\n",
    "- Translates program one statement at a time\n",
    "- Interpreter run every line item \n",
    "- Execut the single, partial line of code\n",
    "- Easy for programming \n",
    "\n",
    "Compiler -->\n",
    "- Scans the entire program and translates it as a whole into machine code.\n",
    "- No execution if an error occurs\n",
    "- you can not fix the bug (debug) line by line "
   ]
  },
  {
   "cell_type": "code",
   "execution_count": 7,
   "id": "8bbced3b-1950-467f-a225-33cc5f418aa5",
   "metadata": {},
   "outputs": [
    {
     "data": {
      "text/plain": [
       "'3.12.7 | packaged by Anaconda, Inc. | (main, Oct  4 2024, 13:17:27) [MSC v.1929 64 bit (AMD64)]'"
      ]
     },
     "execution_count": 7,
     "metadata": {},
     "output_type": "execute_result"
    }
   ],
   "source": [
    "import sys\n",
    "sys.version"
   ]
  },
  {
   "cell_type": "markdown",
   "id": "bcec97e4-1a2f-4224-95d9-8ef68613bf79",
   "metadata": {},
   "source": [
    "# 1 . Variable = Identifer = Object\n",
    "\n",
    "# syntax ( variable name = value) "
   ]
  },
  {
   "cell_type": "code",
   "execution_count": 8,
   "id": "a163273a-0702-4889-9692-c63689523d3f",
   "metadata": {},
   "outputs": [
    {
     "data": {
      "text/plain": [
       "8"
      ]
     },
     "execution_count": 8,
     "metadata": {},
     "output_type": "execute_result"
    }
   ],
   "source": [
    "v = 8 # v - variable & 8 value \n",
    "v"
   ]
  },
  {
   "cell_type": "code",
   "execution_count": 9,
   "id": "d7fb14d0-eb22-4416-a13b-bf98fa58f30c",
   "metadata": {},
   "outputs": [
    {
     "ename": "SyntaxError",
     "evalue": "cannot assign to literal here. Maybe you meant '==' instead of '='? (3657483032.py, line 1)",
     "output_type": "error",
     "traceback": [
      "\u001b[1;36m  Cell \u001b[1;32mIn[9], line 1\u001b[1;36m\u001b[0m\n\u001b[1;33m    8 = v\u001b[0m\n\u001b[1;37m    ^\u001b[0m\n\u001b[1;31mSyntaxError\u001b[0m\u001b[1;31m:\u001b[0m cannot assign to literal here. Maybe you meant '==' instead of '='?\n"
     ]
    }
   ],
   "source": [
    "8 = v "
   ]
  },
  {
   "cell_type": "code",
   "execution_count": 10,
   "id": "ff8fd24e-77a6-43b5-9741-bd34835e26d7",
   "metadata": {},
   "outputs": [
    {
     "ename": "SyntaxError",
     "evalue": "invalid decimal literal (3028599967.py, line 1)",
     "output_type": "error",
     "traceback": [
      "\u001b[1;36m  Cell \u001b[1;32mIn[10], line 1\u001b[1;36m\u001b[0m\n\u001b[1;33m    1v = 9\u001b[0m\n\u001b[1;37m    ^\u001b[0m\n\u001b[1;31mSyntaxError\u001b[0m\u001b[1;31m:\u001b[0m invalid decimal literal\n"
     ]
    }
   ],
   "source": [
    "1v = 9"
   ]
  },
  {
   "cell_type": "code",
   "execution_count": 12,
   "id": "46344b07-7cb6-49e7-95ee-022bbaee125e",
   "metadata": {},
   "outputs": [
    {
     "data": {
      "text/plain": [
       "9"
      ]
     },
     "execution_count": 12,
     "metadata": {},
     "output_type": "execute_result"
    }
   ],
   "source": [
    "v1 = 9\n",
    "v1"
   ]
  },
  {
   "cell_type": "code",
   "execution_count": 13,
   "id": "9f32687c-229e-4d8d-b76d-768ac5f616f3",
   "metadata": {},
   "outputs": [
    {
     "ename": "NameError",
     "evalue": "name 'V2' is not defined",
     "output_type": "error",
     "traceback": [
      "\u001b[1;31m---------------------------------------------------------------------------\u001b[0m",
      "\u001b[1;31mNameError\u001b[0m                                 Traceback (most recent call last)",
      "Cell \u001b[1;32mIn[13], line 2\u001b[0m\n\u001b[0;32m      1\u001b[0m v2 \u001b[38;5;241m=\u001b[39m \u001b[38;5;241m10\u001b[39m\n\u001b[1;32m----> 2\u001b[0m V2\n",
      "\u001b[1;31mNameError\u001b[0m: name 'V2' is not defined"
     ]
    }
   ],
   "source": [
    "v2 = 10\n",
    "V2"
   ]
  },
  {
   "cell_type": "code",
   "execution_count": 14,
   "id": "1679a6d8-d78a-4b15-8b54-6958dce7856b",
   "metadata": {},
   "outputs": [
    {
     "data": {
      "text/plain": [
       "10"
      ]
     },
     "execution_count": 14,
     "metadata": {},
     "output_type": "execute_result"
    }
   ],
   "source": [
    "v2"
   ]
  },
  {
   "cell_type": "code",
   "execution_count": 15,
   "id": "9f0a3dc9-66a5-46a3-b2eb-1fa464d6de48",
   "metadata": {},
   "outputs": [
    {
     "ename": "SyntaxError",
     "evalue": "invalid syntax (294735882.py, line 1)",
     "output_type": "error",
     "traceback": [
      "\u001b[1;36m  Cell \u001b[1;32mIn[15], line 1\u001b[1;36m\u001b[0m\n\u001b[1;33m    if = 67\u001b[0m\n\u001b[1;37m       ^\u001b[0m\n\u001b[1;31mSyntaxError\u001b[0m\u001b[1;31m:\u001b[0m invalid syntax\n"
     ]
    }
   ],
   "source": [
    "if = 67\n",
    "if"
   ]
  },
  {
   "cell_type": "code",
   "execution_count": 16,
   "id": "52a5dbff-1114-4a1b-a637-c2835b97ac23",
   "metadata": {},
   "outputs": [
    {
     "data": {
      "text/plain": [
       "['False',\n",
       " 'None',\n",
       " 'True',\n",
       " 'and',\n",
       " 'as',\n",
       " 'assert',\n",
       " 'async',\n",
       " 'await',\n",
       " 'break',\n",
       " 'class',\n",
       " 'continue',\n",
       " 'def',\n",
       " 'del',\n",
       " 'elif',\n",
       " 'else',\n",
       " 'except',\n",
       " 'finally',\n",
       " 'for',\n",
       " 'from',\n",
       " 'global',\n",
       " 'if',\n",
       " 'import',\n",
       " 'in',\n",
       " 'is',\n",
       " 'lambda',\n",
       " 'nonlocal',\n",
       " 'not',\n",
       " 'or',\n",
       " 'pass',\n",
       " 'raise',\n",
       " 'return',\n",
       " 'try',\n",
       " 'while',\n",
       " 'with',\n",
       " 'yield']"
      ]
     },
     "execution_count": 16,
     "metadata": {},
     "output_type": "execute_result"
    }
   ],
   "source": [
    "import keyword\n",
    "keyword.kwlist"
   ]
  },
  {
   "cell_type": "code",
   "execution_count": 17,
   "id": "6aae9919-f93f-42fd-84e0-8daa51cffe76",
   "metadata": {},
   "outputs": [
    {
     "data": {
      "text/plain": [
       "35"
      ]
     },
     "execution_count": 17,
     "metadata": {},
     "output_type": "execute_result"
    }
   ],
   "source": [
    "len(keyword.kwlist)"
   ]
  },
  {
   "cell_type": "code",
   "execution_count": 19,
   "id": "c56df698-573e-47e9-a509-272fce046b4f",
   "metadata": {},
   "outputs": [
    {
     "ename": "SyntaxError",
     "evalue": "invalid syntax (3096952966.py, line 1)",
     "output_type": "error",
     "traceback": [
      "\u001b[1;36m  Cell \u001b[1;32mIn[19], line 1\u001b[1;36m\u001b[0m\n\u001b[1;33m    not = 56\u001b[0m\n\u001b[1;37m        ^\u001b[0m\n\u001b[1;31mSyntaxError\u001b[0m\u001b[1;31m:\u001b[0m invalid syntax\n"
     ]
    }
   ],
   "source": [
    "not = 56"
   ]
  },
  {
   "cell_type": "code",
   "execution_count": 20,
   "id": "34d659c6-7b04-4dbf-8252-26e1f48d4004",
   "metadata": {},
   "outputs": [
    {
     "ename": "SyntaxError",
     "evalue": "invalid syntax (1550377854.py, line 1)",
     "output_type": "error",
     "traceback": [
      "\u001b[1;36m  Cell \u001b[1;32mIn[20], line 1\u001b[1;36m\u001b[0m\n\u001b[1;33m    for = 45\u001b[0m\n\u001b[1;37m        ^\u001b[0m\n\u001b[1;31mSyntaxError\u001b[0m\u001b[1;31m:\u001b[0m invalid syntax\n"
     ]
    }
   ],
   "source": [
    "for = 45\n",
    "for"
   ]
  },
  {
   "cell_type": "code",
   "execution_count": 21,
   "id": "b5885990-e870-4aaf-8662-d66cbab66c6d",
   "metadata": {},
   "outputs": [
    {
     "data": {
      "text/plain": [
       "45"
      ]
     },
     "execution_count": 21,
     "metadata": {},
     "output_type": "execute_result"
    }
   ],
   "source": [
    "For = 45\n",
    "For "
   ]
  },
  {
   "cell_type": "code",
   "execution_count": 22,
   "id": "343a3bdd-a865-4ba9-9722-65dfe3a59fe8",
   "metadata": {},
   "outputs": [
    {
     "data": {
      "text/plain": [
       "67"
      ]
     },
     "execution_count": 22,
     "metadata": {},
     "output_type": "execute_result"
    }
   ],
   "source": [
    "true = 67\n",
    "true"
   ]
  },
  {
   "cell_type": "code",
   "execution_count": 23,
   "id": "7a7e673e-a82e-456e-b999-bc61d78f148b",
   "metadata": {},
   "outputs": [
    {
     "ename": "SyntaxError",
     "evalue": "cannot assign to True (413473033.py, line 1)",
     "output_type": "error",
     "traceback": [
      "\u001b[1;36m  Cell \u001b[1;32mIn[23], line 1\u001b[1;36m\u001b[0m\n\u001b[1;33m    True = 67\u001b[0m\n\u001b[1;37m    ^\u001b[0m\n\u001b[1;31mSyntaxError\u001b[0m\u001b[1;31m:\u001b[0m cannot assign to True\n"
     ]
    }
   ],
   "source": [
    "True = 67 "
   ]
  },
  {
   "cell_type": "code",
   "execution_count": 24,
   "id": "467d0768-1d4d-4beb-bcf5-ffec34004bce",
   "metadata": {},
   "outputs": [
    {
     "ename": "SyntaxError",
     "evalue": "invalid syntax (1273763492.py, line 1)",
     "output_type": "error",
     "traceback": [
      "\u001b[1;36m  Cell \u001b[1;32mIn[24], line 1\u001b[1;36m\u001b[0m\n\u001b[1;33m    a3max% = 89\u001b[0m\n\u001b[1;37m           ^\u001b[0m\n\u001b[1;31mSyntaxError\u001b[0m\u001b[1;31m:\u001b[0m invalid syntax\n"
     ]
    }
   ],
   "source": [
    "a3max% = 89"
   ]
  },
  {
   "cell_type": "code",
   "execution_count": 25,
   "id": "f5a153b4-0366-449a-bc15-e1ae13e73299",
   "metadata": {},
   "outputs": [
    {
     "ename": "SyntaxError",
     "evalue": "invalid syntax (3478908110.py, line 1)",
     "output_type": "error",
     "traceback": [
      "\u001b[1;36m  Cell \u001b[1;32mIn[25], line 1\u001b[1;36m\u001b[0m\n\u001b[1;33m    a3max$ = 89\u001b[0m\n\u001b[1;37m         ^\u001b[0m\n\u001b[1;31mSyntaxError\u001b[0m\u001b[1;31m:\u001b[0m invalid syntax\n"
     ]
    }
   ],
   "source": [
    "a3max$ = 89"
   ]
  },
  {
   "cell_type": "code",
   "execution_count": 26,
   "id": "e2c5d39e-202b-4430-ac8f-adcbdf218b87",
   "metadata": {},
   "outputs": [
    {
     "data": {
      "text/plain": [
       "89"
      ]
     },
     "execution_count": 26,
     "metadata": {},
     "output_type": "execute_result"
    }
   ],
   "source": [
    "a3max_ = 89\n",
    "a3max_"
   ]
  },
  {
   "cell_type": "code",
   "execution_count": 34,
   "id": "88241a8f-b782-48d2-8a91-242fc69bac30",
   "metadata": {},
   "outputs": [
    {
     "data": {
      "text/plain": [
       "2"
      ]
     },
     "execution_count": 34,
     "metadata": {},
     "output_type": "execute_result"
    }
   ],
   "source": [
    "10 + 5\n",
    "10 - 5\n",
    "10 * 5\n",
    "10 / 5\n",
    "10 // 5"
   ]
  },
  {
   "cell_type": "code",
   "execution_count": 36,
   "id": "c5718abd-bdb6-482a-957d-a43c69c40439",
   "metadata": {},
   "outputs": [
    {
     "name": "stdout",
     "output_type": "stream",
     "text": [
      "15\n",
      "5\n",
      "50\n",
      "2.0\n",
      "2\n"
     ]
    }
   ],
   "source": [
    "print(10+5)\n",
    "print(10-5)\n",
    "print(10*5)\n",
    "print(10/5) # float division\n",
    "print(10//5) # int division"
   ]
  },
  {
   "cell_type": "markdown",
   "id": "d6c3c217-0b1d-4a7b-a6c7-d0b80191f2f0",
   "metadata": {},
   "source": [
    "# 29th  \n",
    "\n",
    "- values are called as datatypes ( variabel name = values)"
   ]
  },
  {
   "cell_type": "code",
   "execution_count": 1,
   "id": "05cbce33-b348-4698-af14-7bf25444bf16",
   "metadata": {},
   "outputs": [
    {
     "data": {
      "text/plain": [
       "8"
      ]
     },
     "execution_count": 1,
     "metadata": {},
     "output_type": "execute_result"
    }
   ],
   "source": [
    "i = 8\n",
    "i"
   ]
  },
  {
   "cell_type": "code",
   "execution_count": 3,
   "id": "ae9d0546-a16b-477e-b496-8bf6ef6f404e",
   "metadata": {},
   "outputs": [
    {
     "data": {
      "text/plain": [
       "int"
      ]
     },
     "execution_count": 3,
     "metadata": {},
     "output_type": "execute_result"
    }
   ],
   "source": [
    "type(i) "
   ]
  },
  {
   "cell_type": "code",
   "execution_count": 4,
   "id": "e8d80b12-b6ba-4058-8d22-57d779969b3a",
   "metadata": {},
   "outputs": [
    {
     "data": {
      "text/plain": [
       "100.34"
      ]
     },
     "execution_count": 4,
     "metadata": {},
     "output_type": "execute_result"
    }
   ],
   "source": [
    "f = 100.34\n",
    "f"
   ]
  },
  {
   "cell_type": "code",
   "execution_count": 5,
   "id": "be2cf6fd-277b-4bcf-bb55-b9958ff6a09f",
   "metadata": {},
   "outputs": [
    {
     "data": {
      "text/plain": [
       "float"
      ]
     },
     "execution_count": 5,
     "metadata": {},
     "output_type": "execute_result"
    }
   ],
   "source": [
    "type(f)"
   ]
  },
  {
   "cell_type": "code",
   "execution_count": null,
   "id": "4554ff40-2606-4d71-990b-2ebff2b7ab28",
   "metadata": {},
   "outputs": [],
   "source": [
    "1f = 2.4e0"
   ]
  },
  {
   "cell_type": "code",
   "execution_count": 6,
   "id": "fb03f653-f3b7-4266-84c0-6f234fc3c0ec",
   "metadata": {},
   "outputs": [
    {
     "data": {
      "text/plain": [
       "2.4"
      ]
     },
     "execution_count": 6,
     "metadata": {},
     "output_type": "execute_result"
    }
   ],
   "source": [
    "f1 = 2.4e0\n",
    "f1"
   ]
  },
  {
   "cell_type": "code",
   "execution_count": 7,
   "id": "f12f513e-b79e-4694-bc70-a0fee8550792",
   "metadata": {},
   "outputs": [
    {
     "data": {
      "text/plain": [
       "24.0"
      ]
     },
     "execution_count": 7,
     "metadata": {},
     "output_type": "execute_result"
    }
   ],
   "source": [
    "f2 = 2.4e1\n",
    "f2"
   ]
  },
  {
   "cell_type": "code",
   "execution_count": 8,
   "id": "e420a068-072c-44de-94d2-da167ee4bc2a",
   "metadata": {},
   "outputs": [
    {
     "data": {
      "text/plain": [
       "240.0"
      ]
     },
     "execution_count": 8,
     "metadata": {},
     "output_type": "execute_result"
    }
   ],
   "source": [
    "f3 = 2.4e2\n",
    "f3"
   ]
  },
  {
   "cell_type": "code",
   "execution_count": 9,
   "id": "436b74f4-f512-44c5-9771-83606f017977",
   "metadata": {},
   "outputs": [
    {
     "data": {
      "text/plain": [
       "3200.0"
      ]
     },
     "execution_count": 9,
     "metadata": {},
     "output_type": "execute_result"
    }
   ],
   "source": [
    "f4 = 3.2E3\n",
    "f4"
   ]
  },
  {
   "cell_type": "markdown",
   "id": "53a0203a-1554-415d-8848-e94af37a7953",
   "metadata": {},
   "source": [
    "# complex -- ( 1 + 2j)"
   ]
  },
  {
   "cell_type": "code",
   "execution_count": 10,
   "id": "a6544980-f7aa-4dfc-8aa2-35aa893a8176",
   "metadata": {},
   "outputs": [
    {
     "data": {
      "text/plain": [
       "(10+20j)"
      ]
     },
     "execution_count": 10,
     "metadata": {},
     "output_type": "execute_result"
    }
   ],
   "source": [
    "c = 10 + 20j\n",
    "c"
   ]
  },
  {
   "cell_type": "code",
   "execution_count": 11,
   "id": "68c12be0-628c-45d0-a005-6a7f07bab1ad",
   "metadata": {},
   "outputs": [
    {
     "data": {
      "text/plain": [
       "complex"
      ]
     },
     "execution_count": 11,
     "metadata": {},
     "output_type": "execute_result"
    }
   ],
   "source": [
    "type(c)"
   ]
  },
  {
   "cell_type": "code",
   "execution_count": 12,
   "id": "819bf644-d78b-4f74-8bb4-69d9a1f1aa30",
   "metadata": {},
   "outputs": [
    {
     "data": {
      "text/plain": [
       "10.0"
      ]
     },
     "execution_count": 12,
     "metadata": {},
     "output_type": "execute_result"
    }
   ],
   "source": [
    "c.real"
   ]
  },
  {
   "cell_type": "code",
   "execution_count": 13,
   "id": "79611e2e-8317-4e11-9c7d-07400b2dcf8d",
   "metadata": {},
   "outputs": [
    {
     "data": {
      "text/plain": [
       "20.0"
      ]
     },
     "execution_count": 13,
     "metadata": {},
     "output_type": "execute_result"
    }
   ],
   "source": [
    "c.imag"
   ]
  },
  {
   "cell_type": "code",
   "execution_count": 14,
   "id": "5685568d-a6d5-40c5-a5b9-dfc1234da5f0",
   "metadata": {},
   "outputs": [],
   "source": [
    "c1 = 5 + 2j\n",
    "c2 = 3 + 6j"
   ]
  },
  {
   "cell_type": "code",
   "execution_count": 15,
   "id": "febba48e-5723-481c-99d5-945d0c5ed579",
   "metadata": {},
   "outputs": [
    {
     "name": "stdout",
     "output_type": "stream",
     "text": [
      "(8+8j)\n"
     ]
    }
   ],
   "source": [
    "print(c1+ c2)"
   ]
  },
  {
   "cell_type": "markdown",
   "id": "f295990b-e2cf-4f5a-975e-5a0342bd807b",
   "metadata": {},
   "source": [
    "# Bool"
   ]
  },
  {
   "cell_type": "code",
   "execution_count": 17,
   "id": "b1124e38-1c5a-4a02-8ffe-8297549ee77b",
   "metadata": {},
   "outputs": [
    {
     "ename": "NameError",
     "evalue": "name 'true' is not defined",
     "output_type": "error",
     "traceback": [
      "\u001b[1;31m---------------------------------------------------------------------------\u001b[0m",
      "\u001b[1;31mNameError\u001b[0m                                 Traceback (most recent call last)",
      "Cell \u001b[1;32mIn[17], line 1\u001b[0m\n\u001b[1;32m----> 1\u001b[0m true\n",
      "\u001b[1;31mNameError\u001b[0m: name 'true' is not defined"
     ]
    }
   ],
   "source": [
    "true"
   ]
  },
  {
   "cell_type": "code",
   "execution_count": 18,
   "id": "71ae3342-d095-49f3-8339-0f6bbdaeb537",
   "metadata": {},
   "outputs": [
    {
     "data": {
      "text/plain": [
       "True"
      ]
     },
     "execution_count": 18,
     "metadata": {},
     "output_type": "execute_result"
    }
   ],
   "source": [
    "True"
   ]
  },
  {
   "cell_type": "code",
   "execution_count": 19,
   "id": "abcab8d5-43d0-4895-8437-23774bbb07ab",
   "metadata": {},
   "outputs": [
    {
     "data": {
      "text/plain": [
       "False"
      ]
     },
     "execution_count": 19,
     "metadata": {},
     "output_type": "execute_result"
    }
   ],
   "source": [
    "False"
   ]
  },
  {
   "cell_type": "code",
   "execution_count": 20,
   "id": "d3520f66-73a3-4681-9871-ed8d49bd2eff",
   "metadata": {},
   "outputs": [
    {
     "data": {
      "text/plain": [
       "2"
      ]
     },
     "execution_count": 20,
     "metadata": {},
     "output_type": "execute_result"
    }
   ],
   "source": [
    "True + True"
   ]
  },
  {
   "cell_type": "code",
   "execution_count": 21,
   "id": "e043f4e0-cb46-425d-907c-710e3dd94b32",
   "metadata": {},
   "outputs": [
    {
     "data": {
      "text/plain": [
       "1"
      ]
     },
     "execution_count": 21,
     "metadata": {},
     "output_type": "execute_result"
    }
   ],
   "source": [
    "True - False"
   ]
  },
  {
   "cell_type": "code",
   "execution_count": 22,
   "id": "29dfb1f5-5cb7-4dce-a266-a27f717fe6fb",
   "metadata": {},
   "outputs": [
    {
     "data": {
      "text/plain": [
       "-1"
      ]
     },
     "execution_count": 22,
     "metadata": {},
     "output_type": "execute_result"
    }
   ],
   "source": [
    "False - True"
   ]
  },
  {
   "cell_type": "code",
   "execution_count": 23,
   "id": "2b5629e7-6b0c-4e1b-a69d-be4785ef60a6",
   "metadata": {},
   "outputs": [
    {
     "data": {
      "text/plain": [
       "0"
      ]
     },
     "execution_count": 23,
     "metadata": {},
     "output_type": "execute_result"
    }
   ],
   "source": [
    "False * True"
   ]
  },
  {
   "cell_type": "code",
   "execution_count": 24,
   "id": "2e43f191-7983-4285-8b40-869997780cfd",
   "metadata": {},
   "outputs": [
    {
     "data": {
      "text/plain": [
       "1"
      ]
     },
     "execution_count": 24,
     "metadata": {},
     "output_type": "execute_result"
    }
   ],
   "source": [
    "False * True + True"
   ]
  },
  {
   "cell_type": "code",
   "execution_count": 27,
   "id": "b3138c80-ba53-438f-a809-d3423c08eed1",
   "metadata": {},
   "outputs": [
    {
     "data": {
      "text/plain": [
       "0.0"
      ]
     },
     "execution_count": 27,
     "metadata": {},
     "output_type": "execute_result"
    }
   ],
   "source": [
    "False / True  #(float division) "
   ]
  },
  {
   "cell_type": "code",
   "execution_count": 28,
   "id": "f5476528-55e3-4055-be62-f46577ff8837",
   "metadata": {},
   "outputs": [
    {
     "data": {
      "text/plain": [
       "0"
      ]
     },
     "execution_count": 28,
     "metadata": {},
     "output_type": "execute_result"
    }
   ],
   "source": [
    "False //  True  # int division"
   ]
  },
  {
   "cell_type": "code",
   "execution_count": 29,
   "id": "908e9f75-622b-46f8-8891-7deb02faa248",
   "metadata": {},
   "outputs": [
    {
     "ename": "ZeroDivisionError",
     "evalue": "division by zero",
     "output_type": "error",
     "traceback": [
      "\u001b[1;31m---------------------------------------------------------------------------\u001b[0m",
      "\u001b[1;31mZeroDivisionError\u001b[0m                         Traceback (most recent call last)",
      "Cell \u001b[1;32mIn[29], line 1\u001b[0m\n\u001b[1;32m----> 1\u001b[0m \u001b[38;5;28;01mTrue\u001b[39;00m \u001b[38;5;241m/\u001b[39m \u001b[38;5;28;01mFalse\u001b[39;00m\n",
      "\u001b[1;31mZeroDivisionError\u001b[0m: division by zero"
     ]
    }
   ],
   "source": [
    "True / False "
   ]
  },
  {
   "cell_type": "markdown",
   "id": "f3302810-a971-44dd-a1e4-e750246bd89a",
   "metadata": {},
   "source": [
    "# string"
   ]
  },
  {
   "cell_type": "code",
   "execution_count": 30,
   "id": "a881d98d-afe6-4e91-a68d-33f83ab49974",
   "metadata": {},
   "outputs": [
    {
     "ename": "NameError",
     "evalue": "name 'welcome' is not defined",
     "output_type": "error",
     "traceback": [
      "\u001b[1;31m---------------------------------------------------------------------------\u001b[0m",
      "\u001b[1;31mNameError\u001b[0m                                 Traceback (most recent call last)",
      "Cell \u001b[1;32mIn[30], line 1\u001b[0m\n\u001b[1;32m----> 1\u001b[0m s \u001b[38;5;241m=\u001b[39m welcome\n\u001b[0;32m      2\u001b[0m s\n",
      "\u001b[1;31mNameError\u001b[0m: name 'welcome' is not defined"
     ]
    }
   ],
   "source": [
    "s = welcome\n",
    "s"
   ]
  },
  {
   "cell_type": "code",
   "execution_count": 33,
   "id": "7f62b8a1-510f-46e3-8b3f-4bd6f035c438",
   "metadata": {},
   "outputs": [
    {
     "data": {
      "text/plain": [
       "'a3max'"
      ]
     },
     "execution_count": 33,
     "metadata": {},
     "output_type": "execute_result"
    }
   ],
   "source": [
    "s1 = 'a3max'\n",
    "s1"
   ]
  },
  {
   "cell_type": "code",
   "execution_count": 34,
   "id": "dc13509f-e139-4587-99e1-1ab81ad3a936",
   "metadata": {},
   "outputs": [
    {
     "data": {
      "text/plain": [
       "'a3max'"
      ]
     },
     "execution_count": 34,
     "metadata": {},
     "output_type": "execute_result"
    }
   ],
   "source": [
    "s2 = \"a3max\"\n",
    "s2"
   ]
  },
  {
   "cell_type": "code",
   "execution_count": 35,
   "id": "e681d4a3-cb5f-45b3-bc92-b841306e55d2",
   "metadata": {},
   "outputs": [
    {
     "data": {
      "text/plain": [
       "'a3max'"
      ]
     },
     "execution_count": 35,
     "metadata": {},
     "output_type": "execute_result"
    }
   ],
   "source": [
    "s3 = '''a3max'''\n",
    "s3"
   ]
  },
  {
   "cell_type": "code",
   "execution_count": 39,
   "id": "894d92c2-309c-4910-99a7-548efd7590d3",
   "metadata": {},
   "outputs": [
    {
     "data": {
      "text/plain": [
       "'  a3max \\n        software \\n        technology '"
      ]
     },
     "execution_count": 39,
     "metadata": {},
     "output_type": "execute_result"
    }
   ],
   "source": [
    "s4 = '''  a3max \n",
    "        software \n",
    "        technology '''\n",
    "\n",
    "s4"
   ]
  },
  {
   "cell_type": "markdown",
   "id": "33feb5eb-0cee-4dfe-b39d-d7c0a5a7cac4",
   "metadata": {},
   "source": [
    "# 1st - Type casting"
   ]
  },
  {
   "cell_type": "code",
   "execution_count": 2,
   "id": "5f1df954-0d08-4ec6-b442-f1b037d41717",
   "metadata": {},
   "outputs": [
    {
     "data": {
      "text/plain": [
       "110"
      ]
     },
     "execution_count": 2,
     "metadata": {},
     "output_type": "execute_result"
    }
   ],
   "source": [
    "int(110.10)  # float to int"
   ]
  },
  {
   "cell_type": "code",
   "execution_count": 3,
   "id": "7c692855-252c-4bc5-96fb-da709a0119e2",
   "metadata": {},
   "outputs": [
    {
     "ename": "TypeError",
     "evalue": "'float' object cannot be interpreted as an integer",
     "output_type": "error",
     "traceback": [
      "\u001b[1;31m---------------------------------------------------------------------------\u001b[0m",
      "\u001b[1;31mTypeError\u001b[0m                                 Traceback (most recent call last)",
      "Cell \u001b[1;32mIn[3], line 1\u001b[0m\n\u001b[1;32m----> 1\u001b[0m \u001b[38;5;28mint\u001b[39m(\u001b[38;5;241m110.10\u001b[39m, \u001b[38;5;241m230.45\u001b[39m)\n",
      "\u001b[1;31mTypeError\u001b[0m: 'float' object cannot be interpreted as an integer"
     ]
    }
   ],
   "source": [
    "int(110.10, 230.45)  "
   ]
  },
  {
   "cell_type": "code",
   "execution_count": 4,
   "id": "86f24633-ccf1-4dad-90fa-3bdf2f3ca405",
   "metadata": {},
   "outputs": [
    {
     "data": {
      "text/plain": [
       "1"
      ]
     },
     "execution_count": 4,
     "metadata": {},
     "output_type": "execute_result"
    }
   ],
   "source": [
    "int(True)  # bool to int "
   ]
  },
  {
   "cell_type": "code",
   "execution_count": 5,
   "id": "58dca018-c426-4dff-9783-35a958fdb5ae",
   "metadata": {},
   "outputs": [
    {
     "data": {
      "text/plain": [
       "2"
      ]
     },
     "execution_count": 5,
     "metadata": {},
     "output_type": "execute_result"
    }
   ],
   "source": [
    "True + True"
   ]
  },
  {
   "cell_type": "code",
   "execution_count": 6,
   "id": "a876165d-d7ea-4d28-984b-169bf0ef5559",
   "metadata": {},
   "outputs": [
    {
     "data": {
      "text/plain": [
       "0"
      ]
     },
     "execution_count": 6,
     "metadata": {},
     "output_type": "execute_result"
    }
   ],
   "source": [
    "int(False) "
   ]
  },
  {
   "cell_type": "code",
   "execution_count": 7,
   "id": "b2bfee4a-ac66-45e2-ae04-2f7d775e94b0",
   "metadata": {},
   "outputs": [
    {
     "ename": "TypeError",
     "evalue": "int() can't convert non-string with explicit base",
     "output_type": "error",
     "traceback": [
      "\u001b[1;31m---------------------------------------------------------------------------\u001b[0m",
      "\u001b[1;31mTypeError\u001b[0m                                 Traceback (most recent call last)",
      "Cell \u001b[1;32mIn[7], line 1\u001b[0m\n\u001b[1;32m----> 1\u001b[0m \u001b[38;5;28mint\u001b[39m(\u001b[38;5;28;01mTrue\u001b[39;00m, \u001b[38;5;28;01mFalse\u001b[39;00m)\n",
      "\u001b[1;31mTypeError\u001b[0m: int() can't convert non-string with explicit base"
     ]
    }
   ],
   "source": [
    "int(True, False) "
   ]
  },
  {
   "cell_type": "code",
   "execution_count": 8,
   "id": "f5c3273f-3f2d-46d1-8a5e-d8b54a52adc3",
   "metadata": {},
   "outputs": [
    {
     "ename": "TypeError",
     "evalue": "int() argument must be a string, a bytes-like object or a real number, not 'complex'",
     "output_type": "error",
     "traceback": [
      "\u001b[1;31m---------------------------------------------------------------------------\u001b[0m",
      "\u001b[1;31mTypeError\u001b[0m                                 Traceback (most recent call last)",
      "Cell \u001b[1;32mIn[8], line 1\u001b[0m\n\u001b[1;32m----> 1\u001b[0m \u001b[38;5;28mint\u001b[39m(\u001b[38;5;241m10\u001b[39m\u001b[38;5;241m+\u001b[39m\u001b[38;5;241m20\u001b[39mj)\n",
      "\u001b[1;31mTypeError\u001b[0m: int() argument must be a string, a bytes-like object or a real number, not 'complex'"
     ]
    }
   ],
   "source": [
    "int(10+20j) #complex to int "
   ]
  },
  {
   "cell_type": "code",
   "execution_count": 9,
   "id": "d0d413b3-b628-4938-a4bc-01db3ad08d65",
   "metadata": {},
   "outputs": [
    {
     "data": {
      "text/plain": [
       "10"
      ]
     },
     "execution_count": 9,
     "metadata": {},
     "output_type": "execute_result"
    }
   ],
   "source": [
    "int('10') #number string to int"
   ]
  },
  {
   "cell_type": "code",
   "execution_count": 10,
   "id": "e981bd2a-5e55-452d-b3e2-1a7f41dec1cb",
   "metadata": {},
   "outputs": [
    {
     "ename": "ValueError",
     "evalue": "invalid literal for int() with base 10: 'ten'",
     "output_type": "error",
     "traceback": [
      "\u001b[1;31m---------------------------------------------------------------------------\u001b[0m",
      "\u001b[1;31mValueError\u001b[0m                                Traceback (most recent call last)",
      "Cell \u001b[1;32mIn[10], line 1\u001b[0m\n\u001b[1;32m----> 1\u001b[0m \u001b[38;5;28mint\u001b[39m(\u001b[38;5;124m'\u001b[39m\u001b[38;5;124mten\u001b[39m\u001b[38;5;124m'\u001b[39m)\n",
      "\u001b[1;31mValueError\u001b[0m: invalid literal for int() with base 10: 'ten'"
     ]
    }
   ],
   "source": [
    "int('ten') #word string to int"
   ]
  },
  {
   "cell_type": "code",
   "execution_count": null,
   "id": "e2dacf00-eb54-4d0d-86f5-3e7e2eaf1ce7",
   "metadata": {},
   "outputs": [],
   "source": [
    "# we learned like all other data type to int compleed "
   ]
  },
  {
   "cell_type": "code",
   "execution_count": 11,
   "id": "709dc28d-c0f7-4191-9fa8-2dc04a679b72",
   "metadata": {},
   "outputs": [
    {
     "data": {
      "text/plain": [
       "10.0"
      ]
     },
     "execution_count": 11,
     "metadata": {},
     "output_type": "execute_result"
    }
   ],
   "source": [
    "float(10)  #int to float"
   ]
  },
  {
   "cell_type": "code",
   "execution_count": 12,
   "id": "194828f2-a646-4eff-8821-45a633ab9263",
   "metadata": {},
   "outputs": [
    {
     "data": {
      "text/plain": [
       "1.0"
      ]
     },
     "execution_count": 12,
     "metadata": {},
     "output_type": "execute_result"
    }
   ],
   "source": [
    "float(True) #bool to float"
   ]
  },
  {
   "cell_type": "code",
   "execution_count": 13,
   "id": "ef35daa6-d45f-4281-ab06-e78e704adc63",
   "metadata": {},
   "outputs": [
    {
     "ename": "TypeError",
     "evalue": "float expected at most 1 argument, got 2",
     "output_type": "error",
     "traceback": [
      "\u001b[1;31m---------------------------------------------------------------------------\u001b[0m",
      "\u001b[1;31mTypeError\u001b[0m                                 Traceback (most recent call last)",
      "Cell \u001b[1;32mIn[13], line 1\u001b[0m\n\u001b[1;32m----> 1\u001b[0m \u001b[38;5;28mfloat\u001b[39m(\u001b[38;5;28;01mTrue\u001b[39;00m, \u001b[38;5;28;01mFalse\u001b[39;00m)\n",
      "\u001b[1;31mTypeError\u001b[0m: float expected at most 1 argument, got 2"
     ]
    }
   ],
   "source": [
    "float(True, False)"
   ]
  },
  {
   "cell_type": "code",
   "execution_count": 14,
   "id": "d2bef930-26fa-493c-a90d-c5dbfa60734b",
   "metadata": {},
   "outputs": [
    {
     "ename": "TypeError",
     "evalue": "float() argument must be a string or a real number, not 'complex'",
     "output_type": "error",
     "traceback": [
      "\u001b[1;31m---------------------------------------------------------------------------\u001b[0m",
      "\u001b[1;31mTypeError\u001b[0m                                 Traceback (most recent call last)",
      "Cell \u001b[1;32mIn[14], line 1\u001b[0m\n\u001b[1;32m----> 1\u001b[0m \u001b[38;5;28mfloat\u001b[39m(\u001b[38;5;241m1\u001b[39m\u001b[38;5;241m+\u001b[39m\u001b[38;5;241m2\u001b[39mj)\n",
      "\u001b[1;31mTypeError\u001b[0m: float() argument must be a string or a real number, not 'complex'"
     ]
    }
   ],
   "source": [
    "float(1+2j) #complex to float not possibel "
   ]
  },
  {
   "cell_type": "code",
   "execution_count": 15,
   "id": "677700d0-ebdd-4b25-8b8f-772c51d290c0",
   "metadata": {},
   "outputs": [
    {
     "data": {
      "text/plain": [
       "10.0"
      ]
     },
     "execution_count": 15,
     "metadata": {},
     "output_type": "execute_result"
    }
   ],
   "source": [
    "float('10') #string to float"
   ]
  },
  {
   "cell_type": "code",
   "execution_count": 16,
   "id": "5f88cb6b-cba7-47f4-9f45-fe97c29d1db1",
   "metadata": {},
   "outputs": [
    {
     "ename": "ValueError",
     "evalue": "could not convert string to float: 'ten'",
     "output_type": "error",
     "traceback": [
      "\u001b[1;31m---------------------------------------------------------------------------\u001b[0m",
      "\u001b[1;31mValueError\u001b[0m                                Traceback (most recent call last)",
      "Cell \u001b[1;32mIn[16], line 1\u001b[0m\n\u001b[1;32m----> 1\u001b[0m \u001b[38;5;28mfloat\u001b[39m(\u001b[38;5;124m'\u001b[39m\u001b[38;5;124mten\u001b[39m\u001b[38;5;124m'\u001b[39m)\n",
      "\u001b[1;31mValueError\u001b[0m: could not convert string to float: 'ten'"
     ]
    }
   ],
   "source": [
    "float('ten') #text to float not possible"
   ]
  },
  {
   "cell_type": "code",
   "execution_count": null,
   "id": "53862c37-b5a6-4845-a1c1-c532ce777ef6",
   "metadata": {},
   "outputs": [],
   "source": [
    "# other datatypes to bool"
   ]
  },
  {
   "cell_type": "code",
   "execution_count": 20,
   "id": "3ffebc9a-bb42-4bda-b864-37c957c803ca",
   "metadata": {},
   "outputs": [
    {
     "data": {
      "text/plain": [
       "True"
      ]
     },
     "execution_count": 20,
     "metadata": {},
     "output_type": "execute_result"
    }
   ],
   "source": [
    "bool(10) "
   ]
  },
  {
   "cell_type": "code",
   "execution_count": 19,
   "id": "3cf519fa-bcc6-40eb-880d-2159a03f31b4",
   "metadata": {},
   "outputs": [
    {
     "data": {
      "text/plain": [
       "False"
      ]
     },
     "execution_count": 19,
     "metadata": {},
     "output_type": "execute_result"
    }
   ],
   "source": [
    "bool( ) #non zero paramete (no value assigne)"
   ]
  },
  {
   "cell_type": "code",
   "execution_count": 21,
   "id": "23f6a277-e9d9-4f7e-b82f-8ed5f7f295d6",
   "metadata": {},
   "outputs": [
    {
     "data": {
      "text/plain": [
       "True"
      ]
     },
     "execution_count": 21,
     "metadata": {},
     "output_type": "execute_result"
    }
   ],
   "source": [
    "bool(10.45) "
   ]
  },
  {
   "cell_type": "code",
   "execution_count": 22,
   "id": "2d7cb4ec-6fb0-4775-85d0-509683096eaa",
   "metadata": {},
   "outputs": [
    {
     "data": {
      "text/plain": [
       "True"
      ]
     },
     "execution_count": 22,
     "metadata": {},
     "output_type": "execute_result"
    }
   ],
   "source": [
    "bool(10+20j)"
   ]
  },
  {
   "cell_type": "code",
   "execution_count": 23,
   "id": "cd3d1b76-425d-4765-90e9-b3969c4f7b5a",
   "metadata": {},
   "outputs": [
    {
     "data": {
      "text/plain": [
       "False"
      ]
     },
     "execution_count": 23,
     "metadata": {},
     "output_type": "execute_result"
    }
   ],
   "source": [
    "bool() "
   ]
  },
  {
   "cell_type": "code",
   "execution_count": 24,
   "id": "61aade19-ab48-4ec9-bdf1-b8a94dc5c054",
   "metadata": {},
   "outputs": [
    {
     "data": {
      "text/plain": [
       "True"
      ]
     },
     "execution_count": 24,
     "metadata": {},
     "output_type": "execute_result"
    }
   ],
   "source": [
    "bool('10')"
   ]
  },
  {
   "cell_type": "code",
   "execution_count": 25,
   "id": "730c18eb-78ca-42db-be4d-f205e1aa646f",
   "metadata": {},
   "outputs": [
    {
     "data": {
      "text/plain": [
       "True"
      ]
     },
     "execution_count": 25,
     "metadata": {},
     "output_type": "execute_result"
    }
   ],
   "source": [
    "bool('ten') "
   ]
  },
  {
   "cell_type": "code",
   "execution_count": 26,
   "id": "861cf955-a9cc-4df2-b7ee-8924377672f0",
   "metadata": {},
   "outputs": [],
   "source": [
    "# from all other datatype to string"
   ]
  },
  {
   "cell_type": "code",
   "execution_count": 27,
   "id": "3ac73185-3c25-431b-9dc0-df1a73d95d3a",
   "metadata": {},
   "outputs": [
    {
     "data": {
      "text/plain": [
       "'10'"
      ]
     },
     "execution_count": 27,
     "metadata": {},
     "output_type": "execute_result"
    }
   ],
   "source": [
    "str(10)  # int to string "
   ]
  },
  {
   "cell_type": "code",
   "execution_count": 28,
   "id": "fccb2fe9-6d08-4746-a7ba-187ce3bfb3b8",
   "metadata": {},
   "outputs": [
    {
     "data": {
      "text/plain": [
       "'10.9'"
      ]
     },
     "execution_count": 28,
     "metadata": {},
     "output_type": "execute_result"
    }
   ],
   "source": [
    "str(10.9) # float to string "
   ]
  },
  {
   "cell_type": "code",
   "execution_count": 29,
   "id": "08adff88-7665-4b46-ac0f-4b3558260981",
   "metadata": {},
   "outputs": [
    {
     "data": {
      "text/plain": [
       "'True'"
      ]
     },
     "execution_count": 29,
     "metadata": {},
     "output_type": "execute_result"
    }
   ],
   "source": [
    "str(True)  # bool to string "
   ]
  },
  {
   "cell_type": "code",
   "execution_count": null,
   "id": "bf1b5849-cb2a-4c0c-a59c-e31a54c81e67",
   "metadata": {},
   "outputs": [],
   "source": [
    "str(False) # bool to string"
   ]
  },
  {
   "cell_type": "code",
   "execution_count": 30,
   "id": "47ff4de9-1e45-4a5c-8954-9970565183fb",
   "metadata": {},
   "outputs": [
    {
     "data": {
      "text/plain": [
       "'(1+2j)'"
      ]
     },
     "execution_count": 30,
     "metadata": {},
     "output_type": "execute_result"
    }
   ],
   "source": [
    "str (1+2j)"
   ]
  },
  {
   "cell_type": "code",
   "execution_count": 31,
   "id": "70586b68-21d1-456f-a03b-d087d3f896ea",
   "metadata": {},
   "outputs": [],
   "source": [
    "# other dataytpes to complex "
   ]
  },
  {
   "cell_type": "code",
   "execution_count": 32,
   "id": "ff87bbf4-6878-466f-8b2f-9487d06f2e9c",
   "metadata": {},
   "outputs": [
    {
     "data": {
      "text/plain": [
       "(10+0j)"
      ]
     },
     "execution_count": 32,
     "metadata": {},
     "output_type": "execute_result"
    }
   ],
   "source": [
    "complex(10) # int to complex"
   ]
  },
  {
   "cell_type": "code",
   "execution_count": 33,
   "id": "db79c3f3-9907-462b-8379-a48627f9f492",
   "metadata": {},
   "outputs": [
    {
     "data": {
      "text/plain": [
       "(10+20j)"
      ]
     },
     "execution_count": 33,
     "metadata": {},
     "output_type": "execute_result"
    }
   ],
   "source": [
    "complex(10,20) "
   ]
  },
  {
   "cell_type": "code",
   "execution_count": 34,
   "id": "f96ba613-98fa-4188-9827-04586e4a8561",
   "metadata": {},
   "outputs": [
    {
     "ename": "TypeError",
     "evalue": "complex() takes at most 2 arguments (3 given)",
     "output_type": "error",
     "traceback": [
      "\u001b[1;31m---------------------------------------------------------------------------\u001b[0m",
      "\u001b[1;31mTypeError\u001b[0m                                 Traceback (most recent call last)",
      "Cell \u001b[1;32mIn[34], line 1\u001b[0m\n\u001b[1;32m----> 1\u001b[0m \u001b[38;5;28mcomplex\u001b[39m(\u001b[38;5;241m10\u001b[39m,\u001b[38;5;241m20\u001b[39m,\u001b[38;5;241m30\u001b[39m)\n",
      "\u001b[1;31mTypeError\u001b[0m: complex() takes at most 2 arguments (3 given)"
     ]
    }
   ],
   "source": [
    "complex(10,20,30) "
   ]
  },
  {
   "cell_type": "code",
   "execution_count": 35,
   "id": "aeaedb3d-69d2-42d2-b655-a2ff100b7511",
   "metadata": {},
   "outputs": [
    {
     "data": {
      "text/plain": [
       "(10.3+20.9j)"
      ]
     },
     "execution_count": 35,
     "metadata": {},
     "output_type": "execute_result"
    }
   ],
   "source": [
    "complex(10.3, 20.9)"
   ]
  },
  {
   "cell_type": "code",
   "execution_count": 36,
   "id": "94fb3b61-966b-4bc6-a4f4-ab4a7f079bc8",
   "metadata": {},
   "outputs": [
    {
     "data": {
      "text/plain": [
       "(10+20.9j)"
      ]
     },
     "execution_count": 36,
     "metadata": {},
     "output_type": "execute_result"
    }
   ],
   "source": [
    "complex(10, 20.9)"
   ]
  },
  {
   "cell_type": "code",
   "execution_count": 37,
   "id": "8cb5a5ed-a8de-4a38-8bbc-a63d71a5cd16",
   "metadata": {},
   "outputs": [
    {
     "data": {
      "text/plain": [
       "(1+0j)"
      ]
     },
     "execution_count": 37,
     "metadata": {},
     "output_type": "execute_result"
    }
   ],
   "source": [
    "complex(True) "
   ]
  },
  {
   "cell_type": "code",
   "execution_count": 38,
   "id": "b0d88827-6514-4300-853a-8c7728ad50dd",
   "metadata": {},
   "outputs": [
    {
     "data": {
      "text/plain": [
       "0j"
      ]
     },
     "execution_count": 38,
     "metadata": {},
     "output_type": "execute_result"
    }
   ],
   "source": [
    "complex(False) "
   ]
  },
  {
   "cell_type": "code",
   "execution_count": 39,
   "id": "0aaf22f3-6ff3-47f8-9f56-c3e316e1e5b3",
   "metadata": {},
   "outputs": [
    {
     "data": {
      "text/plain": [
       "(10+0j)"
      ]
     },
     "execution_count": 39,
     "metadata": {},
     "output_type": "execute_result"
    }
   ],
   "source": [
    "complex('10')"
   ]
  },
  {
   "cell_type": "code",
   "execution_count": 40,
   "id": "bb17fe9c-5517-4d8b-804f-d812b4eb5593",
   "metadata": {},
   "outputs": [
    {
     "ename": "TypeError",
     "evalue": "complex() can't take second arg if first is a string",
     "output_type": "error",
     "traceback": [
      "\u001b[1;31m---------------------------------------------------------------------------\u001b[0m",
      "\u001b[1;31mTypeError\u001b[0m                                 Traceback (most recent call last)",
      "Cell \u001b[1;32mIn[40], line 1\u001b[0m\n\u001b[1;32m----> 1\u001b[0m \u001b[38;5;28mcomplex\u001b[39m(\u001b[38;5;124m'\u001b[39m\u001b[38;5;124m10\u001b[39m\u001b[38;5;124m'\u001b[39m, \u001b[38;5;124m'\u001b[39m\u001b[38;5;124m20\u001b[39m\u001b[38;5;124m'\u001b[39m)\n",
      "\u001b[1;31mTypeError\u001b[0m: complex() can't take second arg if first is a string"
     ]
    }
   ],
   "source": [
    "complex('10', '20')"
   ]
  },
  {
   "cell_type": "code",
   "execution_count": 41,
   "id": "3c24fdbf-54d9-4874-b318-414244c0cf13",
   "metadata": {},
   "outputs": [
    {
     "ename": "TypeError",
     "evalue": "complex() second arg can't be a string",
     "output_type": "error",
     "traceback": [
      "\u001b[1;31m---------------------------------------------------------------------------\u001b[0m",
      "\u001b[1;31mTypeError\u001b[0m                                 Traceback (most recent call last)",
      "Cell \u001b[1;32mIn[41], line 1\u001b[0m\n\u001b[1;32m----> 1\u001b[0m \u001b[38;5;28mcomplex\u001b[39m(\u001b[38;5;241m10\u001b[39m, \u001b[38;5;124m'\u001b[39m\u001b[38;5;124m20\u001b[39m\u001b[38;5;124m'\u001b[39m)\n",
      "\u001b[1;31mTypeError\u001b[0m: complex() second arg can't be a string"
     ]
    }
   ],
   "source": [
    "complex(10, '20')"
   ]
  },
  {
   "cell_type": "code",
   "execution_count": 42,
   "id": "cd522356-e8b2-4329-9ed6-3ba2d437fafd",
   "metadata": {},
   "outputs": [
    {
     "ename": "TypeError",
     "evalue": "complex() can't take second arg if first is a string",
     "output_type": "error",
     "traceback": [
      "\u001b[1;31m---------------------------------------------------------------------------\u001b[0m",
      "\u001b[1;31mTypeError\u001b[0m                                 Traceback (most recent call last)",
      "Cell \u001b[1;32mIn[42], line 1\u001b[0m\n\u001b[1;32m----> 1\u001b[0m \u001b[38;5;28mcomplex\u001b[39m(\u001b[38;5;124m'\u001b[39m\u001b[38;5;124m20\u001b[39m\u001b[38;5;124m'\u001b[39m, \u001b[38;5;241m10\u001b[39m)\n",
      "\u001b[1;31mTypeError\u001b[0m: complex() can't take second arg if first is a string"
     ]
    }
   ],
   "source": [
    "complex('20', 10)"
   ]
  },
  {
   "cell_type": "markdown",
   "id": "4d2016a3-0fd2-4643-ac40-a6d946dc9d55",
   "metadata": {},
   "source": [
    "# python type casting has completed"
   ]
  },
  {
   "cell_type": "code",
   "execution_count": 45,
   "id": "8d6b0969-b386-498e-b167-cccb09d938ea",
   "metadata": {},
   "outputs": [],
   "source": [
    "a = 20 "
   ]
  },
  {
   "cell_type": "code",
   "execution_count": 46,
   "id": "1763b3ba-eb16-4990-8709-c7a21c7fb8fa",
   "metadata": {},
   "outputs": [
    {
     "data": {
      "text/plain": [
       "140735359953944"
      ]
     },
     "execution_count": 46,
     "metadata": {},
     "output_type": "execute_result"
    }
   ],
   "source": [
    "id(a)"
   ]
  },
  {
   "cell_type": "code",
   "execution_count": 47,
   "id": "9716ceb9-50af-46f9-89aa-5be06a3350c9",
   "metadata": {},
   "outputs": [
    {
     "data": {
      "text/plain": [
       "20"
      ]
     },
     "execution_count": 47,
     "metadata": {},
     "output_type": "execute_result"
    }
   ],
   "source": [
    "b = 20\n",
    "b"
   ]
  },
  {
   "cell_type": "code",
   "execution_count": 48,
   "id": "42a8e07d-fc0a-42d6-a5a3-5db4c4d206d5",
   "metadata": {},
   "outputs": [
    {
     "name": "stdout",
     "output_type": "stream",
     "text": [
      "140735359953944\n",
      "140735359953944\n"
     ]
    }
   ],
   "source": [
    "print(id(a))\n",
    "print(id(b))      "
   ]
  },
  {
   "cell_type": "code",
   "execution_count": 49,
   "id": "a9d33bf8-f66d-4b7c-8264-74fcfa03223f",
   "metadata": {},
   "outputs": [
    {
     "name": "stdout",
     "output_type": "stream",
     "text": [
      "140735359954264\n"
     ]
    }
   ],
   "source": [
    "c = 30 \n",
    "print(id(c))"
   ]
  },
  {
   "cell_type": "markdown",
   "id": "8f0fed6e-6156-42bf-8905-fef875c818f0",
   "metadata": {},
   "source": [
    "# string indexing"
   ]
  },
  {
   "cell_type": "code",
   "execution_count": 50,
   "id": "ade63a66-f852-480d-af9f-3ae10571cdf1",
   "metadata": {},
   "outputs": [
    {
     "data": {
      "text/plain": [
       "'a3max'"
      ]
     },
     "execution_count": 50,
     "metadata": {},
     "output_type": "execute_result"
    }
   ],
   "source": [
    "index = 'a3max'\n",
    "index"
   ]
  },
  {
   "cell_type": "code",
   "execution_count": 53,
   "id": "8322ac2d-118c-4502-b74d-e34d66ff85d0",
   "metadata": {},
   "outputs": [
    {
     "data": {
      "text/plain": [
       "'a'"
      ]
     },
     "execution_count": 53,
     "metadata": {},
     "output_type": "execute_result"
    }
   ],
   "source": [
    "index[0] #if we notice that i change opne bracket to square bracket "
   ]
  },
  {
   "cell_type": "code",
   "execution_count": 54,
   "id": "3afa0f43-675d-4640-8b35-be66630dc57e",
   "metadata": {},
   "outputs": [
    {
     "data": {
      "text/plain": [
       "'m'"
      ]
     },
     "execution_count": 54,
     "metadata": {},
     "output_type": "execute_result"
    }
   ],
   "source": [
    "index[-3]"
   ]
  },
  {
   "cell_type": "code",
   "execution_count": 59,
   "id": "ae3f2108-dec1-46d5-bf73-cf65c0849170",
   "metadata": {},
   "outputs": [
    {
     "ename": "IndexError",
     "evalue": "string index out of range",
     "output_type": "error",
     "traceback": [
      "\u001b[1;31m---------------------------------------------------------------------------\u001b[0m",
      "\u001b[1;31mIndexError\u001b[0m                                Traceback (most recent call last)",
      "Cell \u001b[1;32mIn[59], line 1\u001b[0m\n\u001b[1;32m----> 1\u001b[0m index[\u001b[38;5;241m5\u001b[39m]\n",
      "\u001b[1;31mIndexError\u001b[0m: string index out of range"
     ]
    }
   ],
   "source": [
    "index[5]"
   ]
  },
  {
   "cell_type": "code",
   "execution_count": 60,
   "id": "215437a1-a878-490f-905f-546135cc1599",
   "metadata": {},
   "outputs": [
    {
     "ename": "IndexError",
     "evalue": "string index out of range",
     "output_type": "error",
     "traceback": [
      "\u001b[1;31m---------------------------------------------------------------------------\u001b[0m",
      "\u001b[1;31mIndexError\u001b[0m                                Traceback (most recent call last)",
      "Cell \u001b[1;32mIn[60], line 1\u001b[0m\n\u001b[1;32m----> 1\u001b[0m index[\u001b[38;5;241m-\u001b[39m\u001b[38;5;241m10\u001b[39m]\n",
      "\u001b[1;31mIndexError\u001b[0m: string index out of range"
     ]
    }
   ],
   "source": [
    "index[-10]"
   ]
  },
  {
   "cell_type": "code",
   "execution_count": 61,
   "id": "498a82d9-2da1-4dd7-ae8a-0c883be76d9b",
   "metadata": {},
   "outputs": [
    {
     "data": {
      "text/plain": [
       "'a3max'"
      ]
     },
     "execution_count": 61,
     "metadata": {},
     "output_type": "execute_result"
    }
   ],
   "source": [
    "index"
   ]
  },
  {
   "cell_type": "code",
   "execution_count": 62,
   "id": "fe9d53a4-9ab7-4693-918f-daebdadb4400",
   "metadata": {},
   "outputs": [
    {
     "name": "stdout",
     "output_type": "stream",
     "text": [
      "a\n",
      "3\n",
      "m\n",
      "a\n",
      "x\n"
     ]
    }
   ],
   "source": [
    "for i in index:\n",
    "    print(i)"
   ]
  },
  {
   "cell_type": "markdown",
   "id": "62b1d6c6-1a7c-4de3-b5df-ee78980cf693",
   "metadata": {},
   "source": [
    "# slicing concept merge along with indexing\n",
    "# 2nd sep"
   ]
  },
  {
   "cell_type": "code",
   "execution_count": 63,
   "id": "eba73f4d-e7a6-44c2-a7a3-2e5efa04a03e",
   "metadata": {},
   "outputs": [
    {
     "data": {
      "text/plain": [
       "'a3max'"
      ]
     },
     "execution_count": 63,
     "metadata": {},
     "output_type": "execute_result"
    }
   ],
   "source": [
    "index"
   ]
  },
  {
   "cell_type": "code",
   "execution_count": 64,
   "id": "d624fbd8-1bd0-40c4-84d1-8515da56532d",
   "metadata": {},
   "outputs": [
    {
     "data": {
      "text/plain": [
       "'ma'"
      ]
     },
     "execution_count": 64,
     "metadata": {},
     "output_type": "execute_result"
    }
   ],
   "source": [
    "index[2:4] # l:r (r = r-1) "
   ]
  },
  {
   "cell_type": "code",
   "execution_count": 65,
   "id": "19bba778-978b-4223-8d4d-57e69fc283c5",
   "metadata": {},
   "outputs": [
    {
     "data": {
      "text/plain": [
       "'a3ma'"
      ]
     },
     "execution_count": 65,
     "metadata": {},
     "output_type": "execute_result"
    }
   ],
   "source": [
    "index[0:4]"
   ]
  },
  {
   "cell_type": "code",
   "execution_count": 66,
   "id": "248ca9d9-a6d2-43d1-8544-595ae8a3eb45",
   "metadata": {},
   "outputs": [
    {
     "data": {
      "text/plain": [
       "'hellopython'"
      ]
     },
     "execution_count": 66,
     "metadata": {},
     "output_type": "execute_result"
    }
   ],
   "source": [
    "ind = 'hellopython'\n",
    "ind"
   ]
  },
  {
   "cell_type": "code",
   "execution_count": 67,
   "id": "e64bd057-96be-4d85-b2a3-9c2a5b357134",
   "metadata": {},
   "outputs": [
    {
     "data": {
      "text/plain": [
       "'hellopython'"
      ]
     },
     "execution_count": 67,
     "metadata": {},
     "output_type": "execute_result"
    }
   ],
   "source": [
    "ind[:] "
   ]
  },
  {
   "cell_type": "code",
   "execution_count": 68,
   "id": "6755199c-2bb6-4f75-a181-8059a3fe042c",
   "metadata": {},
   "outputs": [
    {
     "data": {
      "text/plain": [
       "'hellopython'"
      ]
     },
     "execution_count": 68,
     "metadata": {},
     "output_type": "execute_result"
    }
   ],
   "source": [
    "ind"
   ]
  },
  {
   "cell_type": "code",
   "execution_count": 69,
   "id": "719147c0-e9f1-44cd-a628-1912f532cd03",
   "metadata": {},
   "outputs": [
    {
     "data": {
      "text/plain": [
       "'ellopython'"
      ]
     },
     "execution_count": 69,
     "metadata": {},
     "output_type": "execute_result"
    }
   ],
   "source": [
    "ind[1:] "
   ]
  },
  {
   "cell_type": "code",
   "execution_count": 70,
   "id": "52b796f5-0f4a-4ce0-aff9-ea9abe95aaa0",
   "metadata": {},
   "outputs": [
    {
     "data": {
      "text/plain": [
       "'hellopython'"
      ]
     },
     "execution_count": 70,
     "metadata": {},
     "output_type": "execute_result"
    }
   ],
   "source": [
    "ind"
   ]
  },
  {
   "cell_type": "code",
   "execution_count": 71,
   "id": "19a85359-89de-4bc5-84ec-0ecf09b29e93",
   "metadata": {},
   "outputs": [
    {
     "data": {
      "text/plain": [
       "'hellopyt'"
      ]
     },
     "execution_count": 71,
     "metadata": {},
     "output_type": "execute_result"
    }
   ],
   "source": [
    "ind[:8]"
   ]
  },
  {
   "cell_type": "code",
   "execution_count": 72,
   "id": "3694d24b-bcf4-4348-a4a3-961f0bd64170",
   "metadata": {},
   "outputs": [
    {
     "data": {
      "text/plain": [
       "'hellopython'"
      ]
     },
     "execution_count": 72,
     "metadata": {},
     "output_type": "execute_result"
    }
   ],
   "source": [
    "ind"
   ]
  },
  {
   "cell_type": "code",
   "execution_count": 73,
   "id": "1429371d-7bcd-4384-801e-b4f7612929e1",
   "metadata": {},
   "outputs": [
    {
     "data": {
      "text/plain": [
       "'hon'"
      ]
     },
     "execution_count": 73,
     "metadata": {},
     "output_type": "execute_result"
    }
   ],
   "source": [
    "ind[-3:]"
   ]
  },
  {
   "cell_type": "code",
   "execution_count": 74,
   "id": "899420b6-954d-46e6-92d3-472c0572dcfb",
   "metadata": {},
   "outputs": [
    {
     "data": {
      "text/plain": [
       "'hellopython'"
      ]
     },
     "execution_count": 74,
     "metadata": {},
     "output_type": "execute_result"
    }
   ],
   "source": [
    "ind"
   ]
  },
  {
   "cell_type": "code",
   "execution_count": 75,
   "id": "9c0c1f79-8802-49a1-a680-822524c2daf6",
   "metadata": {},
   "outputs": [
    {
     "data": {
      "text/plain": [
       "'hellopyt'"
      ]
     },
     "execution_count": 75,
     "metadata": {},
     "output_type": "execute_result"
    }
   ],
   "source": [
    "ind[:-3]"
   ]
  },
  {
   "cell_type": "code",
   "execution_count": 76,
   "id": "aefa299e-04ba-4e4d-b16e-496ea309e5bc",
   "metadata": {},
   "outputs": [
    {
     "data": {
      "text/plain": [
       "'a3max'"
      ]
     },
     "execution_count": 76,
     "metadata": {},
     "output_type": "execute_result"
    }
   ],
   "source": [
    "index"
   ]
  },
  {
   "cell_type": "code",
   "execution_count": 77,
   "id": "e1811114-d077-4300-ac01-6703129d2d80",
   "metadata": {},
   "outputs": [
    {
     "data": {
      "text/plain": [
       "5"
      ]
     },
     "execution_count": 77,
     "metadata": {},
     "output_type": "execute_result"
    }
   ],
   "source": [
    "len(index)"
   ]
  },
  {
   "cell_type": "code",
   "execution_count": 78,
   "id": "4f1d9d6b-d3ab-44df-86c9-9439107f8a5d",
   "metadata": {},
   "outputs": [
    {
     "data": {
      "text/plain": [
       "'hello python'"
      ]
     },
     "execution_count": 78,
     "metadata": {},
     "output_type": "execute_result"
    }
   ],
   "source": [
    "str1 = 'hello python'\n",
    "str1"
   ]
  },
  {
   "cell_type": "code",
   "execution_count": 81,
   "id": "6c86c74f-f245-46da-8446-9c08b9e9da90",
   "metadata": {},
   "outputs": [
    {
     "ename": "TypeError",
     "evalue": "'str' object does not support item assignment",
     "output_type": "error",
     "traceback": [
      "\u001b[1;31m---------------------------------------------------------------------------\u001b[0m",
      "\u001b[1;31mTypeError\u001b[0m                                 Traceback (most recent call last)",
      "Cell \u001b[1;32mIn[81], line 1\u001b[0m\n\u001b[1;32m----> 1\u001b[0m str1[\u001b[38;5;241m0\u001b[39m:\u001b[38;5;241m5\u001b[39m] \u001b[38;5;241m=\u001b[39m \u001b[38;5;124m'\u001b[39m\u001b[38;5;124mHOLAA\u001b[39m\u001b[38;5;124m'\u001b[39m\n\u001b[0;32m      2\u001b[0m str1\n",
      "\u001b[1;31mTypeError\u001b[0m: 'str' object does not support item assignment"
     ]
    }
   ],
   "source": [
    "str1[0:5] = 'HOLAA'\n",
    "str1"
   ]
  },
  {
   "cell_type": "code",
   "execution_count": 83,
   "id": "13d0adcb-9640-4956-8d0a-f141af76aac9",
   "metadata": {},
   "outputs": [
    {
     "data": {
      "text/plain": [
       "'hello python'"
      ]
     },
     "execution_count": 83,
     "metadata": {},
     "output_type": "execute_result"
    }
   ],
   "source": [
    "str1"
   ]
  },
  {
   "cell_type": "code",
   "execution_count": 84,
   "id": "0e06fe97-567f-4d94-b363-b50b505db804",
   "metadata": {},
   "outputs": [],
   "source": [
    "del(str1)"
   ]
  },
  {
   "cell_type": "code",
   "execution_count": 85,
   "id": "bea94dff-5d4b-46d1-9e75-547f1c04ea69",
   "metadata": {},
   "outputs": [
    {
     "ename": "NameError",
     "evalue": "name 'str1' is not defined",
     "output_type": "error",
     "traceback": [
      "\u001b[1;31m---------------------------------------------------------------------------\u001b[0m",
      "\u001b[1;31mNameError\u001b[0m                                 Traceback (most recent call last)",
      "Cell \u001b[1;32mIn[85], line 1\u001b[0m\n\u001b[1;32m----> 1\u001b[0m str1\n",
      "\u001b[1;31mNameError\u001b[0m: name 'str1' is not defined"
     ]
    }
   ],
   "source": [
    "str1"
   ]
  },
  {
   "cell_type": "code",
   "execution_count": 86,
   "id": "b21b598e-68ee-40db-ade1-7398e1bdd62d",
   "metadata": {},
   "outputs": [
    {
     "data": {
      "text/plain": [
       "'hellopython'"
      ]
     },
     "execution_count": 86,
     "metadata": {},
     "output_type": "execute_result"
    }
   ],
   "source": [
    "ind"
   ]
  },
  {
   "cell_type": "code",
   "execution_count": 87,
   "id": "26176ec9-c5e5-448e-9fc2-5c8c071d1c63",
   "metadata": {},
   "outputs": [],
   "source": [
    "del ind"
   ]
  },
  {
   "cell_type": "code",
   "execution_count": 88,
   "id": "1386b51b-9363-4e92-9d86-06849cf71193",
   "metadata": {},
   "outputs": [
    {
     "ename": "NameError",
     "evalue": "name 'ind' is not defined",
     "output_type": "error",
     "traceback": [
      "\u001b[1;31m---------------------------------------------------------------------------\u001b[0m",
      "\u001b[1;31mNameError\u001b[0m                                 Traceback (most recent call last)",
      "Cell \u001b[1;32mIn[88], line 1\u001b[0m\n\u001b[1;32m----> 1\u001b[0m ind\n",
      "\u001b[1;31mNameError\u001b[0m: name 'ind' is not defined"
     ]
    }
   ],
   "source": [
    "ind"
   ]
  },
  {
   "cell_type": "code",
   "execution_count": 89,
   "id": "ff3a289f-4dde-4d74-8a20-73e17706a90f",
   "metadata": {},
   "outputs": [
    {
     "data": {
      "text/plain": [
       "'a3max'"
      ]
     },
     "execution_count": 89,
     "metadata": {},
     "output_type": "execute_result"
    }
   ],
   "source": [
    "index"
   ]
  },
  {
   "cell_type": "code",
   "execution_count": 90,
   "id": "dca2d9a8-5192-48ae-95f0-cbdba02c12be",
   "metadata": {},
   "outputs": [
    {
     "data": {
      "text/plain": [
       "'a3max'"
      ]
     },
     "execution_count": 90,
     "metadata": {},
     "output_type": "execute_result"
    }
   ],
   "source": [
    "index[0:10] "
   ]
  },
  {
   "cell_type": "code",
   "execution_count": 91,
   "id": "972a1e52-b575-4206-95bb-816e1f491765",
   "metadata": {},
   "outputs": [
    {
     "ename": "IndexError",
     "evalue": "string index out of range",
     "output_type": "error",
     "traceback": [
      "\u001b[1;31m---------------------------------------------------------------------------\u001b[0m",
      "\u001b[1;31mIndexError\u001b[0m                                Traceback (most recent call last)",
      "Cell \u001b[1;32mIn[91], line 1\u001b[0m\n\u001b[1;32m----> 1\u001b[0m index[\u001b[38;5;241m10\u001b[39m]\n",
      "\u001b[1;31mIndexError\u001b[0m: string index out of range"
     ]
    }
   ],
   "source": [
    "index[10]"
   ]
  },
  {
   "cell_type": "code",
   "execution_count": 92,
   "id": "6f8a5e4f-0324-4d3e-82fd-8957242bd454",
   "metadata": {},
   "outputs": [
    {
     "data": {
      "text/plain": [
       "'a3max'"
      ]
     },
     "execution_count": 92,
     "metadata": {},
     "output_type": "execute_result"
    }
   ],
   "source": [
    "index"
   ]
  },
  {
   "cell_type": "code",
   "execution_count": 93,
   "id": "17ff2e39-d5ea-48af-9599-73f4d7bcbfb6",
   "metadata": {},
   "outputs": [
    {
     "data": {
      "text/plain": [
       "'amx'"
      ]
     },
     "execution_count": 93,
     "metadata": {},
     "output_type": "execute_result"
    }
   ],
   "source": [
    "index[0:10:2] #step indexing "
   ]
  },
  {
   "cell_type": "code",
   "execution_count": 94,
   "id": "654a821a-bde5-4ccc-9497-e04a0e49748a",
   "metadata": {},
   "outputs": [
    {
     "data": {
      "text/plain": [
       "'a3max'"
      ]
     },
     "execution_count": 94,
     "metadata": {},
     "output_type": "execute_result"
    }
   ],
   "source": [
    "index"
   ]
  },
  {
   "cell_type": "code",
   "execution_count": 95,
   "id": "c80e599c-e5de-456c-b85c-8b3c50a2d971",
   "metadata": {},
   "outputs": [
    {
     "data": {
      "text/plain": [
       "'ax'"
      ]
     },
     "execution_count": 95,
     "metadata": {},
     "output_type": "execute_result"
    }
   ],
   "source": [
    "index[0:5:4]"
   ]
  },
  {
   "cell_type": "code",
   "execution_count": 96,
   "id": "5a4885d7-fd26-4d47-886f-aaaf6e708dd9",
   "metadata": {},
   "outputs": [
    {
     "data": {
      "text/plain": [
       "'helloall'"
      ]
     },
     "execution_count": 96,
     "metadata": {},
     "output_type": "execute_result"
    }
   ],
   "source": [
    "'hello' 'all'"
   ]
  },
  {
   "cell_type": "code",
   "execution_count": 97,
   "id": "3d3e6bd6-29d0-4c61-9dff-2fb814139f23",
   "metadata": {},
   "outputs": [
    {
     "data": {
      "text/plain": [
       "'hello all'"
      ]
     },
     "execution_count": 97,
     "metadata": {},
     "output_type": "execute_result"
    }
   ],
   "source": [
    "'hello' +' all'"
   ]
  },
  {
   "cell_type": "code",
   "execution_count": 98,
   "id": "03f67622-b7ba-4917-989d-2f5690dc57e3",
   "metadata": {},
   "outputs": [
    {
     "ename": "TypeError",
     "evalue": "can't multiply sequence by non-int of type 'str'",
     "output_type": "error",
     "traceback": [
      "\u001b[1;31m---------------------------------------------------------------------------\u001b[0m",
      "\u001b[1;31mTypeError\u001b[0m                                 Traceback (most recent call last)",
      "Cell \u001b[1;32mIn[98], line 1\u001b[0m\n\u001b[1;32m----> 1\u001b[0m \u001b[38;5;124m'\u001b[39m\u001b[38;5;124mhello\u001b[39m\u001b[38;5;124m'\u001b[39m \u001b[38;5;241m*\u001b[39m \u001b[38;5;124m'\u001b[39m\u001b[38;5;124m all\u001b[39m\u001b[38;5;124m'\u001b[39m\n",
      "\u001b[1;31mTypeError\u001b[0m: can't multiply sequence by non-int of type 'str'"
     ]
    }
   ],
   "source": [
    "'hello' * ' all'"
   ]
  },
  {
   "cell_type": "markdown",
   "id": "5446c126-39be-4225-8f4c-5b0eb4da8793",
   "metadata": {},
   "source": [
    "# print() "
   ]
  },
  {
   "cell_type": "code",
   "execution_count": 101,
   "id": "b002141b-feb8-48f8-90dd-892bffd5ceb5",
   "metadata": {},
   "outputs": [
    {
     "data": {
      "text/plain": [
       "20"
      ]
     },
     "execution_count": 101,
     "metadata": {},
     "output_type": "execute_result"
    }
   ],
   "source": [
    "a = 10\n",
    "b = 20\n",
    "a\n",
    "b"
   ]
  },
  {
   "cell_type": "code",
   "execution_count": 104,
   "id": "1bdafb87-5b91-4ffb-a4c3-7c75bfeaebb6",
   "metadata": {},
   "outputs": [
    {
     "name": "stdout",
     "output_type": "stream",
     "text": [
      "10\n",
      "20\n",
      "30\n"
     ]
    }
   ],
   "source": [
    "a = 10\n",
    "b = 20\n",
    "c = 30\n",
    "\n",
    "print(a)\n",
    "print(b)\n",
    "print(c)"
   ]
  },
  {
   "cell_type": "code",
   "execution_count": 105,
   "id": "f13a316f-8a01-4a1f-9327-43717e44dcb1",
   "metadata": {},
   "outputs": [
    {
     "name": "stdout",
     "output_type": "stream",
     "text": [
      "10\n",
      "10 20\n",
      "python\n",
      "10 20 python\n"
     ]
    }
   ],
   "source": [
    "  print(10) # 10 is the int arg \n",
    "print(10,20) #2 arg \n",
    "print('python') #string \n",
    "print(10,20,'python') # int & string"
   ]
  },
  {
   "cell_type": "code",
   "execution_count": 108,
   "id": "3061ddcd-a89e-41ae-97d8-13a20a395a48",
   "metadata": {},
   "outputs": [
    {
     "name": "stdout",
     "output_type": "stream",
     "text": [
      "50\n"
     ]
    }
   ],
   "source": [
    "num1=20 \n",
    "num2=30\n",
    "add= num1+num2\n",
    "print(add)"
   ]
  },
  {
   "cell_type": "markdown",
   "id": "b3bacbb3-accf-4b01-9caa-8d6ad59bb30a",
   "metadata": {},
   "source": [
    "# print result with string"
   ]
  },
  {
   "cell_type": "code",
   "execution_count": 107,
   "id": "f6c92d80-51ca-4f1e-913f-50a9a47501c3",
   "metadata": {},
   "outputs": [
    {
     "name": "stdout",
     "output_type": "stream",
     "text": [
      "The addition of 20 and 30 is= 50\n"
     ]
    }
   ],
   "source": [
    "num1=20 \n",
    "num2=30\n",
    "add= num1+num2\n",
    "print('The addition of', num1,'and', num2, 'is=', add)"
   ]
  },
  {
   "cell_type": "markdown",
   "id": "227d216f-f025-4ecc-8464-c372497de1df",
   "metadata": {},
   "source": [
    "# print Format method (f- string) "
   ]
  },
  {
   "cell_type": "code",
   "execution_count": 109,
   "id": "95c39442-67a3-4eb4-b084-be2b6923062c",
   "metadata": {},
   "outputs": [
    {
     "name": "stdout",
     "output_type": "stream",
     "text": [
      "The addition of 20 and 30 is= 50\n"
     ]
    }
   ],
   "source": [
    "num1=20 \n",
    "num2=30\n",
    "add=num1+num2\n",
    "print('The addition of {} and {} is= {}'.format(num1,num2,add))"
   ]
  },
  {
   "cell_type": "markdown",
   "id": "509a75f2-8296-410b-b2a1-0ae5e194137c",
   "metadata": {},
   "source": [
    "# print with end statement"
   ]
  },
  {
   "cell_type": "code",
   "execution_count": 111,
   "id": "f82fde65-52a1-442e-aa59-efbd689ebfe8",
   "metadata": {},
   "outputs": [
    {
     "name": "stdout",
     "output_type": "stream",
     "text": [
      "hello\n",
      "good moorning\n"
     ]
    }
   ],
   "source": [
    "print('hello') \n",
    "print('good moorning')"
   ]
  },
  {
   "cell_type": "code",
   "execution_count": 114,
   "id": "36a76054-542e-4722-bfec-d61bcc281d88",
   "metadata": {},
   "outputs": [
    {
     "name": "stdout",
     "output_type": "stream",
     "text": [
      "hello good moorning\n"
     ]
    }
   ],
   "source": [
    "print('hello', end='')  # stop to print the new line\n",
    "print(' good moorning')"
   ]
  },
  {
   "cell_type": "markdown",
   "id": "98c8eaa7-9d34-49e9-8d72-c9702516e60e",
   "metadata": {},
   "source": [
    "# python operators "
   ]
  },
  {
   "cell_type": "markdown",
   "id": "908a30dc-7ba8-4093-9ec1-b339b186eed4",
   "metadata": {},
   "source": [
    "# ARITHMETIC OPERATOR"
   ]
  },
  {
   "cell_type": "code",
   "execution_count": 5,
   "id": "873759f1-a6ec-4b04-a188-0113cf84e833",
   "metadata": {},
   "outputs": [],
   "source": [
    "a = 10\n",
    "b = 5"
   ]
  },
  {
   "cell_type": "code",
   "execution_count": 6,
   "id": "054af121-a07e-4047-87d1-a05b5246dfb9",
   "metadata": {},
   "outputs": [
    {
     "name": "stdout",
     "output_type": "stream",
     "text": [
      "15\n",
      "5\n",
      "50\n",
      "2.0\n",
      "2\n",
      "100000\n",
      "0\n"
     ]
    }
   ],
   "source": [
    "print(a+b)\n",
    "print(a-b)\n",
    "print(a*b)\n",
    "print(a/b)\n",
    "print(a//b)\n",
    "print(a**b)\n",
    "print(a%b)"
   ]
  },
  {
   "cell_type": "markdown",
   "id": "87554944-9ea4-4d98-b61c-a55c91595d19",
   "metadata": {},
   "source": [
    "# Assignment operator"
   ]
  },
  {
   "cell_type": "code",
   "execution_count": 7,
   "id": "77f25784-06b1-4edc-b652-7b7d92f0ad27",
   "metadata": {},
   "outputs": [],
   "source": [
    "x = 2"
   ]
  },
  {
   "cell_type": "code",
   "execution_count": 8,
   "id": "c81bed71-a4b0-4de0-abda-a63567eb09dc",
   "metadata": {},
   "outputs": [
    {
     "data": {
      "text/plain": [
       "4"
      ]
     },
     "execution_count": 8,
     "metadata": {},
     "output_type": "execute_result"
    }
   ],
   "source": [
    "x = x + 2 \n",
    "x"
   ]
  },
  {
   "cell_type": "code",
   "execution_count": 9,
   "id": "c06376b6-f1d3-47a5-aad1-7adb7e9a758d",
   "metadata": {},
   "outputs": [
    {
     "data": {
      "text/plain": [
       "6"
      ]
     },
     "execution_count": 9,
     "metadata": {},
     "output_type": "execute_result"
    }
   ],
   "source": [
    "x += 2\n",
    "x"
   ]
  },
  {
   "cell_type": "code",
   "execution_count": 10,
   "id": "fecbe795-707f-40e9-9fe2-65e50042eec2",
   "metadata": {},
   "outputs": [
    {
     "data": {
      "text/plain": [
       "8"
      ]
     },
     "execution_count": 10,
     "metadata": {},
     "output_type": "execute_result"
    }
   ],
   "source": [
    "x +=2\n",
    "x"
   ]
  },
  {
   "cell_type": "code",
   "execution_count": 11,
   "id": "5723ab9a-f7f8-4a92-a117-f16c3ceb98f4",
   "metadata": {},
   "outputs": [
    {
     "data": {
      "text/plain": [
       "16"
      ]
     },
     "execution_count": 11,
     "metadata": {},
     "output_type": "execute_result"
    }
   ],
   "source": [
    "x *= 2\n",
    "x"
   ]
  },
  {
   "cell_type": "code",
   "execution_count": 12,
   "id": "4bf0405a-88c1-4fca-b401-d5a5cffd1bc2",
   "metadata": {},
   "outputs": [
    {
     "data": {
      "text/plain": [
       "32"
      ]
     },
     "execution_count": 12,
     "metadata": {},
     "output_type": "execute_result"
    }
   ],
   "source": [
    "x *= 2\n",
    "x"
   ]
  },
  {
   "cell_type": "code",
   "execution_count": 13,
   "id": "cdae4c99-1219-4396-88f2-6635dbb95c2f",
   "metadata": {},
   "outputs": [
    {
     "data": {
      "text/plain": [
       "16.0"
      ]
     },
     "execution_count": 13,
     "metadata": {},
     "output_type": "execute_result"
    }
   ],
   "source": [
    "x /= 2\n",
    "x"
   ]
  },
  {
   "cell_type": "code",
   "execution_count": 14,
   "id": "b362c5cc-91e3-4b10-b393-edc13e2567ed",
   "metadata": {},
   "outputs": [
    {
     "data": {
      "text/plain": [
       "8.0"
      ]
     },
     "execution_count": 14,
     "metadata": {},
     "output_type": "execute_result"
    }
   ],
   "source": [
    "x //= 2\n",
    "x"
   ]
  },
  {
   "cell_type": "code",
   "execution_count": 15,
   "id": "2e7ac804-f172-416a-b5aa-8584eba9b034",
   "metadata": {},
   "outputs": [
    {
     "data": {
      "text/plain": [
       "4"
      ]
     },
     "execution_count": 15,
     "metadata": {},
     "output_type": "execute_result"
    }
   ],
   "source": [
    "y = 4\n",
    "y"
   ]
  },
  {
   "cell_type": "code",
   "execution_count": 16,
   "id": "cfe035b1-c3ee-462f-88d5-0426912c2392",
   "metadata": {},
   "outputs": [
    {
     "data": {
      "text/plain": [
       "2"
      ]
     },
     "execution_count": 16,
     "metadata": {},
     "output_type": "execute_result"
    }
   ],
   "source": [
    "y //= 2\n",
    "y"
   ]
  },
  {
   "cell_type": "code",
   "execution_count": 17,
   "id": "f56b24b7-4108-4fec-a659-e49b8e504253",
   "metadata": {},
   "outputs": [
    {
     "data": {
      "text/plain": [
       "6.0"
      ]
     },
     "execution_count": 17,
     "metadata": {},
     "output_type": "execute_result"
    }
   ],
   "source": [
    "x -= 2\n",
    "x"
   ]
  },
  {
   "cell_type": "code",
   "execution_count": 18,
   "id": "6a753c44-f83b-4e54-9d84-6f9064112b18",
   "metadata": {},
   "outputs": [
    {
     "data": {
      "text/plain": [
       "0"
      ]
     },
     "execution_count": 18,
     "metadata": {},
     "output_type": "execute_result"
    }
   ],
   "source": [
    "10 % 2"
   ]
  },
  {
   "cell_type": "markdown",
   "id": "9dd934e5-1787-4519-86e1-2e1a9bb0e9f2",
   "metadata": {},
   "source": [
    "# unary operator "
   ]
  },
  {
   "cell_type": "code",
   "execution_count": 19,
   "id": "cf48f589-a54c-41bc-a2db-8a3ab251cdc3",
   "metadata": {},
   "outputs": [
    {
     "data": {
      "text/plain": [
       "7"
      ]
     },
     "execution_count": 19,
     "metadata": {},
     "output_type": "execute_result"
    }
   ],
   "source": [
    "n = 7 # negattion\n",
    "n"
   ]
  },
  {
   "cell_type": "code",
   "execution_count": 20,
   "id": "78bc5c40-6d94-4844-b0e6-19012d3e7f68",
   "metadata": {},
   "outputs": [
    {
     "data": {
      "text/plain": [
       "-7"
      ]
     },
     "execution_count": 20,
     "metadata": {},
     "output_type": "execute_result"
    }
   ],
   "source": [
    "m = -(n)\n",
    "m"
   ]
  },
  {
   "cell_type": "code",
   "execution_count": 21,
   "id": "b82cada2-0c40-4bea-b4b7-af3da4847a25",
   "metadata": {},
   "outputs": [
    {
     "data": {
      "text/plain": [
       "7"
      ]
     },
     "execution_count": 21,
     "metadata": {},
     "output_type": "execute_result"
    }
   ],
   "source": [
    "n"
   ]
  },
  {
   "cell_type": "code",
   "execution_count": 22,
   "id": "f36a9018-4ac0-43f2-bd34-7ccf475ed258",
   "metadata": {},
   "outputs": [
    {
     "data": {
      "text/plain": [
       "-7"
      ]
     },
     "execution_count": 22,
     "metadata": {},
     "output_type": "execute_result"
    }
   ],
   "source": [
    "-n"
   ]
  },
  {
   "cell_type": "markdown",
   "id": "b82cebe0-19a6-48fa-aecb-e56b16e89e88",
   "metadata": {},
   "source": [
    "#Relational operator"
   ]
  },
  {
   "cell_type": "code",
   "execution_count": 30,
   "id": "8d64cc69-69c6-434d-b581-08af0f0bdf70",
   "metadata": {},
   "outputs": [],
   "source": [
    "a = 5\n",
    "b = 6"
   ]
  },
  {
   "cell_type": "code",
   "execution_count": 31,
   "id": "28009661-5056-4401-8949-fbd63dcfaee0",
   "metadata": {},
   "outputs": [
    {
     "data": {
      "text/plain": [
       "True"
      ]
     },
     "execution_count": 31,
     "metadata": {},
     "output_type": "execute_result"
    }
   ],
   "source": [
    "a < b "
   ]
  },
  {
   "cell_type": "code",
   "execution_count": 32,
   "id": "0c4bc926-5dce-4b14-a91f-422808fa62dc",
   "metadata": {},
   "outputs": [
    {
     "data": {
      "text/plain": [
       "False"
      ]
     },
     "execution_count": 32,
     "metadata": {},
     "output_type": "execute_result"
    }
   ],
   "source": [
    "a > b"
   ]
  },
  {
   "cell_type": "code",
   "execution_count": 33,
   "id": "09b0f55c-507c-486f-b024-8635a0b0bb16",
   "metadata": {},
   "outputs": [],
   "source": [
    "a = b"
   ]
  },
  {
   "cell_type": "code",
   "execution_count": 34,
   "id": "37652f95-4b34-4f85-a5ed-bcaf90c2caef",
   "metadata": {},
   "outputs": [
    {
     "data": {
      "text/plain": [
       "True"
      ]
     },
     "execution_count": 34,
     "metadata": {},
     "output_type": "execute_result"
    }
   ],
   "source": [
    "a == b"
   ]
  },
  {
   "cell_type": "code",
   "execution_count": 37,
   "id": "497c28be-9337-4062-b163-e3c6f68b56b1",
   "metadata": {},
   "outputs": [],
   "source": [
    "b = 7"
   ]
  },
  {
   "cell_type": "code",
   "execution_count": 38,
   "id": "5b51a814-ac63-4c7c-99eb-00e6fcea7552",
   "metadata": {},
   "outputs": [
    {
     "data": {
      "text/plain": [
       "False"
      ]
     },
     "execution_count": 38,
     "metadata": {},
     "output_type": "execute_result"
    }
   ],
   "source": [
    "a == b"
   ]
  },
  {
   "cell_type": "code",
   "execution_count": 39,
   "id": "a826d4e4-81e3-4784-97cc-b717b2ab5964",
   "metadata": {},
   "outputs": [
    {
     "name": "stdout",
     "output_type": "stream",
     "text": [
      "6\n",
      "7\n"
     ]
    }
   ],
   "source": [
    "print(a)\n",
    "print(b)"
   ]
  },
  {
   "cell_type": "code",
   "execution_count": 40,
   "id": "81a9c5b0-ce44-40aa-b6f4-87bf27f13980",
   "metadata": {},
   "outputs": [
    {
     "data": {
      "text/plain": [
       "False"
      ]
     },
     "execution_count": 40,
     "metadata": {},
     "output_type": "execute_result"
    }
   ],
   "source": [
    "a == b"
   ]
  },
  {
   "cell_type": "code",
   "execution_count": 41,
   "id": "67483a80-d3fb-4dcc-94c6-9602db9f5093",
   "metadata": {},
   "outputs": [
    {
     "data": {
      "text/plain": [
       "True"
      ]
     },
     "execution_count": 41,
     "metadata": {},
     "output_type": "execute_result"
    }
   ],
   "source": [
    "a != b"
   ]
  },
  {
   "cell_type": "code",
   "execution_count": 42,
   "id": "1bcdfdb5-087b-4f98-8514-11f91a2edb2e",
   "metadata": {},
   "outputs": [
    {
     "name": "stdout",
     "output_type": "stream",
     "text": [
      "6\n",
      "7\n"
     ]
    }
   ],
   "source": [
    "print(a)\n",
    "print(b)"
   ]
  },
  {
   "cell_type": "code",
   "execution_count": 43,
   "id": "a18fb1c8-c176-46c8-affb-d5ed1d9fa2e3",
   "metadata": {},
   "outputs": [
    {
     "data": {
      "text/plain": [
       "False"
      ]
     },
     "execution_count": 43,
     "metadata": {},
     "output_type": "execute_result"
    }
   ],
   "source": [
    "a>=b"
   ]
  },
  {
   "cell_type": "code",
   "execution_count": 44,
   "id": "a5588a76-17dd-4968-b7d2-b47013f4b688",
   "metadata": {},
   "outputs": [
    {
     "data": {
      "text/plain": [
       "True"
      ]
     },
     "execution_count": 44,
     "metadata": {},
     "output_type": "execute_result"
    }
   ],
   "source": [
    "a<=b"
   ]
  },
  {
   "cell_type": "code",
   "execution_count": 45,
   "id": "631c22de-7b76-4b68-bf7e-f5fca9f18a7d",
   "metadata": {},
   "outputs": [],
   "source": [
    "b = 7"
   ]
  },
  {
   "cell_type": "code",
   "execution_count": 47,
   "id": "e5e860c9-da05-4ec2-8ab0-255f7b48fbc3",
   "metadata": {},
   "outputs": [
    {
     "data": {
      "text/plain": [
       "False"
      ]
     },
     "execution_count": 47,
     "metadata": {},
     "output_type": "execute_result"
    }
   ],
   "source": [
    "a >= b"
   ]
  },
  {
   "cell_type": "code",
   "execution_count": 48,
   "id": "65c0b83f-4f8e-4920-aaa4-c4313faed389",
   "metadata": {},
   "outputs": [
    {
     "name": "stdout",
     "output_type": "stream",
     "text": [
      "6\n",
      "7\n"
     ]
    }
   ],
   "source": [
    "print(a)\n",
    "print(b)"
   ]
  },
  {
   "cell_type": "code",
   "execution_count": 49,
   "id": "3bf14161-49e5-4029-a0d5-95484dcc22c7",
   "metadata": {},
   "outputs": [],
   "source": [
    "d = 3\n",
    "e = 3"
   ]
  },
  {
   "cell_type": "code",
   "execution_count": 50,
   "id": "fa9487bc-0bb8-4350-b166-d4d7245f71b5",
   "metadata": {},
   "outputs": [
    {
     "data": {
      "text/plain": [
       "True"
      ]
     },
     "execution_count": 50,
     "metadata": {},
     "output_type": "execute_result"
    }
   ],
   "source": [
    "d >= e"
   ]
  },
  {
   "cell_type": "code",
   "execution_count": 51,
   "id": "8c5bbb05-2fe7-42f5-97cd-4d0353492b18",
   "metadata": {},
   "outputs": [
    {
     "data": {
      "text/plain": [
       "True"
      ]
     },
     "execution_count": 51,
     "metadata": {},
     "output_type": "execute_result"
    }
   ],
   "source": [
    "e <= d"
   ]
  },
  {
   "cell_type": "code",
   "execution_count": 52,
   "id": "0081e80c-a9d0-47c5-af1d-1acb3744be5f",
   "metadata": {},
   "outputs": [
    {
     "data": {
      "text/plain": [
       "False"
      ]
     },
     "execution_count": 52,
     "metadata": {},
     "output_type": "execute_result"
    }
   ],
   "source": [
    "d != e"
   ]
  },
  {
   "cell_type": "code",
   "execution_count": 54,
   "id": "1589f50a-7507-4690-9d67-7ce7a81af49e",
   "metadata": {},
   "outputs": [
    {
     "data": {
      "text/plain": [
       "True"
      ]
     },
     "execution_count": 54,
     "metadata": {},
     "output_type": "execute_result"
    }
   ],
   "source": [
    "a != b"
   ]
  },
  {
   "cell_type": "code",
   "execution_count": 55,
   "id": "c59bd9d0-7524-46e4-a96a-cc428aaa3d9c",
   "metadata": {},
   "outputs": [],
   "source": [
    "#LOGICAL OPERATOR\n",
    "\n",
    "a1 = 5\n",
    "b1 = 4"
   ]
  },
  {
   "cell_type": "code",
   "execution_count": 56,
   "id": "bc55d9dd-e878-446d-80fe-c3a341f6d1c7",
   "metadata": {},
   "outputs": [
    {
     "data": {
      "text/plain": [
       "True"
      ]
     },
     "execution_count": 56,
     "metadata": {},
     "output_type": "execute_result"
    }
   ],
   "source": [
    "a1 < 8 and b1 < 5"
   ]
  },
  {
   "cell_type": "code",
   "execution_count": 63,
   "id": "3a8b885a-2301-4a4d-8195-979390f597b2",
   "metadata": {},
   "outputs": [
    {
     "data": {
      "text/plain": [
       "False"
      ]
     },
     "execution_count": 63,
     "metadata": {},
     "output_type": "execute_result"
    }
   ],
   "source": [
    "a1 < 8 and b1 < 2"
   ]
  },
  {
   "cell_type": "code",
   "execution_count": 64,
   "id": "a718ab21-d8e0-4fba-807b-e1bb51aa9c10",
   "metadata": {},
   "outputs": [
    {
     "data": {
      "text/plain": [
       "True"
      ]
     },
     "execution_count": 64,
     "metadata": {},
     "output_type": "execute_result"
    }
   ],
   "source": [
    "a1 < 8 or b1 < 2"
   ]
  },
  {
   "cell_type": "code",
   "execution_count": 65,
   "id": "1917dc51-f1c9-4b72-9c91-f31b19ea5fac",
   "metadata": {},
   "outputs": [],
   "source": [
    "c1 = 9"
   ]
  },
  {
   "cell_type": "code",
   "execution_count": 66,
   "id": "88f1f554-5931-4162-96d3-316fcb5bf080",
   "metadata": {},
   "outputs": [
    {
     "name": "stdout",
     "output_type": "stream",
     "text": [
      "5\n",
      "4\n",
      "9\n"
     ]
    }
   ],
   "source": [
    "print(a1)\n",
    "print(b1)\n",
    "print(c1)"
   ]
  },
  {
   "cell_type": "code",
   "execution_count": 67,
   "id": "b6c8d9b0-328b-42f0-9103-31d5e00a24c3",
   "metadata": {},
   "outputs": [
    {
     "data": {
      "text/plain": [
       "True"
      ]
     },
     "execution_count": 67,
     "metadata": {},
     "output_type": "execute_result"
    }
   ],
   "source": [
    "a1 < 8 or b1 < 2 and c1>4"
   ]
  },
  {
   "cell_type": "code",
   "execution_count": 68,
   "id": "cd14d5a2-2225-4054-b008-2f4e4d6c2dad",
   "metadata": {},
   "outputs": [],
   "source": [
    "x = False"
   ]
  },
  {
   "cell_type": "code",
   "execution_count": 69,
   "id": "55891da9-eb40-4428-8b91-e62168475945",
   "metadata": {},
   "outputs": [
    {
     "data": {
      "text/plain": [
       "True"
      ]
     },
     "execution_count": 69,
     "metadata": {},
     "output_type": "execute_result"
    }
   ],
   "source": [
    "not x"
   ]
  },
  {
   "cell_type": "markdown",
   "id": "42f75d6c-f128-4a51-bb85-ad28904ff5d7",
   "metadata": {},
   "source": [
    "# binary number system"
   ]
  },
  {
   "cell_type": "code",
   "execution_count": 73,
   "id": "508ecdf8-f19c-4eb6-ade5-916a57766e8c",
   "metadata": {},
   "outputs": [
    {
     "data": {
      "text/plain": [
       "25"
      ]
     },
     "execution_count": 73,
     "metadata": {},
     "output_type": "execute_result"
    }
   ],
   "source": [
    "25"
   ]
  },
  {
   "cell_type": "code",
   "execution_count": 74,
   "id": "6bbe564f-baa6-44dc-8970-c795045e90c6",
   "metadata": {},
   "outputs": [
    {
     "data": {
      "text/plain": [
       "'0b11001'"
      ]
     },
     "execution_count": 74,
     "metadata": {},
     "output_type": "execute_result"
    }
   ],
   "source": [
    "bin(25)"
   ]
  },
  {
   "cell_type": "code",
   "execution_count": 75,
   "id": "b2f74ef7-66de-4e92-b916-40422c404d91",
   "metadata": {
    "scrolled": true
   },
   "outputs": [
    {
     "data": {
      "text/plain": [
       "25"
      ]
     },
     "execution_count": 75,
     "metadata": {},
     "output_type": "execute_result"
    }
   ],
   "source": [
    "int(0b11001)"
   ]
  },
  {
   "cell_type": "code",
   "execution_count": 76,
   "id": "6b3d7020-9c1e-49d4-b3bd-bcc94c569c36",
   "metadata": {},
   "outputs": [
    {
     "data": {
      "text/plain": [
       "'0o31'"
      ]
     },
     "execution_count": 76,
     "metadata": {},
     "output_type": "execute_result"
    }
   ],
   "source": [
    "oct(25)"
   ]
  },
  {
   "cell_type": "code",
   "execution_count": 77,
   "id": "9e999e0f-090c-4015-b043-4b06fd7516f4",
   "metadata": {},
   "outputs": [
    {
     "data": {
      "text/plain": [
       "25"
      ]
     },
     "execution_count": 77,
     "metadata": {},
     "output_type": "execute_result"
    }
   ],
   "source": [
    "int(0o31)"
   ]
  },
  {
   "cell_type": "code",
   "execution_count": 78,
   "id": "c218f2f7-6638-4c8d-96ac-440939694c57",
   "metadata": {},
   "outputs": [
    {
     "data": {
      "text/plain": [
       "'0x19'"
      ]
     },
     "execution_count": 78,
     "metadata": {},
     "output_type": "execute_result"
    }
   ],
   "source": [
    "hex(25)"
   ]
  },
  {
   "cell_type": "code",
   "execution_count": 84,
   "id": "2024f4e2-b8a8-4de8-a117-a8b3f7450323",
   "metadata": {},
   "outputs": [
    {
     "data": {
      "text/plain": [
       "15"
      ]
     },
     "execution_count": 84,
     "metadata": {},
     "output_type": "execute_result"
    }
   ],
   "source": [
    "0xf #ipconfig ip address should not get more then g "
   ]
  },
  {
   "cell_type": "code",
   "execution_count": null,
   "id": "57d6cd42-1a7f-4915-b5d3-6337612117d3",
   "metadata": {},
   "outputs": [],
   "source": []
  },
  {
   "cell_type": "code",
   "execution_count": null,
   "id": "68e913b1-b641-4603-b2b3-92752715e5a7",
   "metadata": {},
   "outputs": [],
   "source": []
  }
 ],
 "metadata": {
  "kernelspec": {
   "display_name": "Python 3 (ipykernel)",
   "language": "python",
   "name": "python3"
  },
  "language_info": {
   "codemirror_mode": {
    "name": "ipython",
    "version": 3
   },
   "file_extension": ".py",
   "mimetype": "text/x-python",
   "name": "python",
   "nbconvert_exporter": "python",
   "pygments_lexer": "ipython3",
   "version": "3.12.7"
  }
 },
 "nbformat": 4,
 "nbformat_minor": 5
}
