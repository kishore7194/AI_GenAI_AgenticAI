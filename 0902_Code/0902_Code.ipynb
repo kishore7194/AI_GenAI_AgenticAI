{
 "cells": [
  {
   "cell_type": "code",
   "execution_count": null,
   "id": "53e66266-db52-4496-abb5-92cb5e68e97d",
   "metadata": {},
   "outputs": [],
   "source": []
  },
  {
   "cell_type": "code",
   "execution_count": 1,
   "id": "fdd7ef60-3e20-4695-b5bd-e87ee8ab2c91",
   "metadata": {},
   "outputs": [
    {
     "name": "stdout",
     "output_type": "stream",
     "text": [
      "0b11001\n",
      "25\n"
     ]
    }
   ],
   "source": [
    "# Binary - the base values are 0,1\n",
    "print(bin(25))         # 25 in binary is 0b11001\n",
    "print(int(0b11001))    # 11001 in int is 25"
   ]
  },
  {
   "cell_type": "code",
   "execution_count": 2,
   "id": "e6a7f330-01e9-44c8-9aee-d7dcd81e2c82",
   "metadata": {},
   "outputs": [
    {
     "name": "stdout",
     "output_type": "stream",
     "text": [
      "0o31\n",
      "25\n"
     ]
    }
   ],
   "source": [
    "# Octal - the base values are 0-7\n",
    "print(oct(25))         # 25 in octal is 0o31\n",
    "print(int(0o31))    # 0o31 in int is 25"
   ]
  },
  {
   "cell_type": "code",
   "execution_count": 3,
   "id": "58d12e21-e532-46d0-a4b9-75d6ee1967de",
   "metadata": {},
   "outputs": [
    {
     "name": "stdout",
     "output_type": "stream",
     "text": [
      "25\n"
     ]
    }
   ],
   "source": [
    "# Decimal - the base values are 0-9\n",
    "# Decimals dont have special conversion since this is just numbers.\n",
    "print(25)"
   ]
  },
  {
   "cell_type": "code",
   "execution_count": 4,
   "id": "d8401d80-4000-441f-85c4-65ea3c1658bb",
   "metadata": {},
   "outputs": [
    {
     "name": "stdout",
     "output_type": "stream",
     "text": [
      "0x19\n",
      "25\n"
     ]
    }
   ],
   "source": [
    "# Hexadecimal - the base values are 0-9 and a-f (a is 10, b is 11 and so on)\n",
    "print(hex(25))     # 25 in hexadecimal is 0x19\n",
    "print(int(0x19))   # 0x19 in int is 25"
   ]
  },
  {
   "cell_type": "code",
   "execution_count": null,
   "id": "fc83653a-81bd-4dbf-aba9-4dd25b9a53d3",
   "metadata": {},
   "outputs": [],
   "source": []
  },
  {
   "cell_type": "markdown",
   "id": "42f485fd-b88f-4d6f-b7c6-5e04cf34cfaf",
   "metadata": {},
   "source": [
    "# Arithmetic Operators"
   ]
  },
  {
   "cell_type": "code",
   "execution_count": 5,
   "id": "fcad3a61-2720-4804-ac36-ee250a2ef794",
   "metadata": {},
   "outputs": [
    {
     "name": "stdout",
     "output_type": "stream",
     "text": [
      "15\n",
      "-5\n",
      "50\n",
      "0.5\n",
      "0\n",
      "9765625\n",
      "5\n"
     ]
    }
   ],
   "source": [
    "# Arithmetic Operators\n",
    "a, b = 5, 10   # We can define them together instead of writing in 2 separate lines\n",
    "print(a+b)\n",
    "print(a-b)\n",
    "print(a*b)\n",
    "print(a/b)  # float division\n",
    "print(a//b) # int division\n",
    "print(a**b) # a to the power of b\n",
    "print(a%b)  # modulus - it gives remainder."
   ]
  },
  {
   "cell_type": "code",
   "execution_count": 7,
   "id": "2ef6f630-cb6c-4139-96ab-8acdb2d642b5",
   "metadata": {},
   "outputs": [],
   "source": [
    "# Assignment Operators\n",
    "x = 2\n",
    "x += 2  # x = x+2\n",
    "add = x\n",
    "x -= 2  # x = x-2\n",
    "x /= 2  # x = x/2\n",
    "x //= 2 # x = x//2\n",
    "x *= 2  # x = x*2\n",
    "x **= 2 # x = x**2"
   ]
  },
  {
   "cell_type": "code",
   "execution_count": 8,
   "id": "e7265818-329e-405a-a702-6efefe5a35a7",
   "metadata": {},
   "outputs": [
    {
     "name": "stdout",
     "output_type": "stream",
     "text": [
      "-7\n"
     ]
    }
   ],
   "source": [
    "# Unary Operators - Negation\n",
    "n = 7\n",
    "m = -(n)\n",
    "print(m)"
   ]
  },
  {
   "cell_type": "code",
   "execution_count": 9,
   "id": "0cd9272f-e9a4-44d7-83dd-800a51901e3e",
   "metadata": {},
   "outputs": [
    {
     "data": {
      "text/plain": [
       "True"
      ]
     },
     "execution_count": 9,
     "metadata": {},
     "output_type": "execute_result"
    }
   ],
   "source": [
    "# Relational Operators\n",
    "a, b = 5, 6\n",
    "a < b"
   ]
  },
  {
   "cell_type": "code",
   "execution_count": 10,
   "id": "d213bad5-3f7f-4e43-b7e6-8f9693834ccc",
   "metadata": {},
   "outputs": [
    {
     "data": {
      "text/plain": [
       "False"
      ]
     },
     "execution_count": 10,
     "metadata": {},
     "output_type": "execute_result"
    }
   ],
   "source": [
    "a > b"
   ]
  },
  {
   "cell_type": "code",
   "execution_count": 11,
   "id": "c754da40-34d5-4d65-af7e-03fc96f9238c",
   "metadata": {},
   "outputs": [
    {
     "data": {
      "text/plain": [
       "False"
      ]
     },
     "execution_count": 11,
     "metadata": {},
     "output_type": "execute_result"
    }
   ],
   "source": [
    "a == b"
   ]
  },
  {
   "cell_type": "code",
   "execution_count": 12,
   "id": "449e2469-ccd1-44ce-b384-a423700f3cd9",
   "metadata": {},
   "outputs": [
    {
     "data": {
      "text/plain": [
       "True"
      ]
     },
     "execution_count": 12,
     "metadata": {},
     "output_type": "execute_result"
    }
   ],
   "source": [
    "a != b"
   ]
  },
  {
   "cell_type": "code",
   "execution_count": 13,
   "id": "bc1b61ea-f146-4a03-8b03-8c9c2dae8bf5",
   "metadata": {},
   "outputs": [
    {
     "data": {
      "text/plain": [
       "False"
      ]
     },
     "execution_count": 13,
     "metadata": {},
     "output_type": "execute_result"
    }
   ],
   "source": [
    "a >= b"
   ]
  },
  {
   "cell_type": "code",
   "execution_count": 14,
   "id": "7eaaecfd-c720-452b-9615-0febc862f2e4",
   "metadata": {},
   "outputs": [
    {
     "data": {
      "text/plain": [
       "True"
      ]
     },
     "execution_count": 14,
     "metadata": {},
     "output_type": "execute_result"
    }
   ],
   "source": [
    "a <= b"
   ]
  },
  {
   "cell_type": "code",
   "execution_count": null,
   "id": "0488e5f1-1bc6-45b8-9d39-2aed54d29d37",
   "metadata": {},
   "outputs": [],
   "source": [
    "# Logical Operators - And, Or, Not\n",
    "p = 5\n",
    "q = 6\n",
    "r = 10"
   ]
  },
  {
   "cell_type": "code",
   "execution_count": 20,
   "id": "8f4acc78-5cc5-4d1f-82bb-a3363894a440",
   "metadata": {},
   "outputs": [
    {
     "data": {
      "text/plain": [
       "True"
      ]
     },
     "execution_count": 20,
     "metadata": {},
     "output_type": "execute_result"
    }
   ],
   "source": [
    "# And\n",
    "p = 5\n",
    "q = 6\n",
    "r = 10\n",
    "p < 10 and q > 5"
   ]
  },
  {
   "cell_type": "code",
   "execution_count": 21,
   "id": "51a7b63c-810a-4649-82a3-e556de6ea798",
   "metadata": {},
   "outputs": [
    {
     "data": {
      "text/plain": [
       "False"
      ]
     },
     "execution_count": 21,
     "metadata": {},
     "output_type": "execute_result"
    }
   ],
   "source": [
    "# And\n",
    "p = 5\n",
    "q = 6\n",
    "r = 10\n",
    "p < 10 and q > 6"
   ]
  },
  {
   "cell_type": "code",
   "execution_count": 22,
   "id": "a8ba5c35-7ad1-4b75-b77e-e8207fa03fc3",
   "metadata": {},
   "outputs": [
    {
     "data": {
      "text/plain": [
       "True"
      ]
     },
     "execution_count": 22,
     "metadata": {},
     "output_type": "execute_result"
    }
   ],
   "source": [
    "# Or\n",
    "p < 10 or q > 6"
   ]
  },
  {
   "cell_type": "code",
   "execution_count": 23,
   "id": "b683f714-e884-44c1-8ec6-c2f80c278bc0",
   "metadata": {},
   "outputs": [
    {
     "data": {
      "text/plain": [
       "False"
      ]
     },
     "execution_count": 23,
     "metadata": {},
     "output_type": "execute_result"
    }
   ],
   "source": [
    "# Or\n",
    "p < 2 or q > 6"
   ]
  },
  {
   "cell_type": "code",
   "execution_count": 24,
   "id": "70d6e501-5250-4965-a4ff-498005b5d65b",
   "metadata": {},
   "outputs": [
    {
     "data": {
      "text/plain": [
       "True"
      ]
     },
     "execution_count": 24,
     "metadata": {},
     "output_type": "execute_result"
    }
   ],
   "source": [
    "# Not\n",
    "i = False\n",
    "not i"
   ]
  },
  {
   "cell_type": "code",
   "execution_count": null,
   "id": "615375cc-dc5b-472c-87df-2791b96bc668",
   "metadata": {},
   "outputs": [],
   "source": []
  },
  {
   "cell_type": "code",
   "execution_count": null,
   "id": "c54ab30f-a9df-4dd5-ab36-56fdf9651714",
   "metadata": {},
   "outputs": [],
   "source": []
  },
  {
   "cell_type": "code",
   "execution_count": null,
   "id": "1610c2e3-6f04-4d90-9d5f-3dfb737aaaa3",
   "metadata": {},
   "outputs": [],
   "source": []
  },
  {
   "cell_type": "code",
   "execution_count": null,
   "id": "ac4749f4-88a9-404c-a9ac-4714c379170b",
   "metadata": {},
   "outputs": [],
   "source": []
  },
  {
   "cell_type": "code",
   "execution_count": null,
   "id": "c4231e2f-655d-43e7-848b-cd3d5993d9e9",
   "metadata": {},
   "outputs": [],
   "source": []
  },
  {
   "cell_type": "code",
   "execution_count": null,
   "id": "b2fbdcb7-0396-4cbb-bf6b-ea09398707f4",
   "metadata": {},
   "outputs": [],
   "source": []
  },
  {
   "cell_type": "code",
   "execution_count": null,
   "id": "6763a30c-a15e-4626-9118-e3fd2822ef63",
   "metadata": {},
   "outputs": [],
   "source": []
  }
 ],
 "metadata": {
  "kernelspec": {
   "display_name": "Python 3 (ipykernel)",
   "language": "python",
   "name": "python3"
  },
  "language_info": {
   "codemirror_mode": {
    "name": "ipython",
    "version": 3
   },
   "file_extension": ".py",
   "mimetype": "text/x-python",
   "name": "python",
   "nbconvert_exporter": "python",
   "pygments_lexer": "ipython3",
   "version": "3.13.5"
  }
 },
 "nbformat": 4,
 "nbformat_minor": 5
}
