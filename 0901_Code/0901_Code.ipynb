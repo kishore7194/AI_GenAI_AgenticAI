{
 "cells": [
  {
   "cell_type": "markdown",
   "id": "32082842-6b66-4f69-a164-6fdb0662369d",
   "metadata": {},
   "source": [
    "# Slicing concept with String Indexing"
   ]
  },
  {
   "cell_type": "code",
   "execution_count": 3,
   "id": "482539a3-7f78-4d77-8cf5-e8136c308203",
   "metadata": {},
   "outputs": [
    {
     "data": {
      "text/plain": [
       "'New Test 0901'"
      ]
     },
     "execution_count": 3,
     "metadata": {},
     "output_type": "execute_result"
    }
   ],
   "source": [
    "index = 'New Test 0901'\n",
    "index"
   ]
  },
  {
   "cell_type": "code",
   "execution_count": 5,
   "id": "c9dcf2d5-d748-4590-a59b-3627588582d3",
   "metadata": {},
   "outputs": [
    {
     "data": {
      "text/plain": [
       "'Test '"
      ]
     },
     "execution_count": 5,
     "metadata": {},
     "output_type": "execute_result"
    }
   ],
   "source": [
    "index[4:9]"
   ]
  },
  {
   "cell_type": "code",
   "execution_count": 6,
   "id": "fcf46966-a544-4d8b-afba-9e25c1cad4d2",
   "metadata": {},
   "outputs": [
    {
     "data": {
      "text/plain": [
       "'a3max'"
      ]
     },
     "execution_count": 6,
     "metadata": {},
     "output_type": "execute_result"
    }
   ],
   "source": [
    "index = 'a3max'\n",
    "index"
   ]
  },
  {
   "cell_type": "code",
   "execution_count": 7,
   "id": "f7191589-cc64-4387-81cd-1698c0c87bba",
   "metadata": {},
   "outputs": [
    {
     "data": {
      "text/plain": [
       "'max'"
      ]
     },
     "execution_count": 7,
     "metadata": {},
     "output_type": "execute_result"
    }
   ],
   "source": [
    "index[2:6]"
   ]
  },
  {
   "cell_type": "code",
   "execution_count": 8,
   "id": "6e756838-47a8-47b2-9862-5034ca6ffa7f",
   "metadata": {},
   "outputs": [
    {
     "data": {
      "text/plain": [
       "'max'"
      ]
     },
     "execution_count": 8,
     "metadata": {},
     "output_type": "execute_result"
    }
   ],
   "source": [
    "index[2:]"
   ]
  },
  {
   "cell_type": "code",
   "execution_count": 9,
   "id": "b73b7f81-2272-4aef-b76f-b782794e4266",
   "metadata": {},
   "outputs": [
    {
     "data": {
      "text/plain": [
       "'hellopython'"
      ]
     },
     "execution_count": 9,
     "metadata": {},
     "output_type": "execute_result"
    }
   ],
   "source": [
    "ind = 'hellopython'\n",
    "ind"
   ]
  },
  {
   "cell_type": "code",
   "execution_count": 10,
   "id": "c50cd037-90b9-432f-9a0f-ac6049211c8f",
   "metadata": {},
   "outputs": [
    {
     "data": {
      "text/plain": [
       "'hellopython'"
      ]
     },
     "execution_count": 10,
     "metadata": {},
     "output_type": "execute_result"
    }
   ],
   "source": [
    "ind[:]"
   ]
  },
  {
   "cell_type": "code",
   "execution_count": 11,
   "id": "5989399c-1a75-4168-934e-7d5d8402b654",
   "metadata": {},
   "outputs": [
    {
     "data": {
      "text/plain": [
       "'ellopython'"
      ]
     },
     "execution_count": 11,
     "metadata": {},
     "output_type": "execute_result"
    }
   ],
   "source": [
    "ind[1:]"
   ]
  },
  {
   "cell_type": "code",
   "execution_count": 13,
   "id": "09c9b26c-a707-4f04-9524-5a9374655344",
   "metadata": {},
   "outputs": [
    {
     "data": {
      "text/plain": [
       "'hellopyt'"
      ]
     },
     "execution_count": 13,
     "metadata": {},
     "output_type": "execute_result"
    }
   ],
   "source": [
    "ind[:8]"
   ]
  },
  {
   "cell_type": "code",
   "execution_count": 14,
   "id": "ce200efc-cd46-45f0-ab6e-210ad33deff2",
   "metadata": {},
   "outputs": [
    {
     "data": {
      "text/plain": [
       "'hon'"
      ]
     },
     "execution_count": 14,
     "metadata": {},
     "output_type": "execute_result"
    }
   ],
   "source": [
    "ind[-3:]"
   ]
  },
  {
   "cell_type": "code",
   "execution_count": 15,
   "id": "f4b06e58-3a2f-43c3-aa45-d88e94cc9f97",
   "metadata": {},
   "outputs": [
    {
     "data": {
      "text/plain": [
       "'hellopyt'"
      ]
     },
     "execution_count": 15,
     "metadata": {},
     "output_type": "execute_result"
    }
   ],
   "source": [
    "ind[:-3]"
   ]
  },
  {
   "cell_type": "code",
   "execution_count": null,
   "id": "356e3ecc-7d93-4fa3-8c13-defa5aa6272a",
   "metadata": {},
   "outputs": [],
   "source": []
  },
  {
   "cell_type": "code",
   "execution_count": 18,
   "id": "412424eb-73e9-45da-ad72-f2babba6b9a0",
   "metadata": {},
   "outputs": [
    {
     "data": {
      "text/plain": [
       "'hello python'"
      ]
     },
     "execution_count": 18,
     "metadata": {},
     "output_type": "execute_result"
    }
   ],
   "source": [
    "str1 = 'hello python'\n",
    "str1"
   ]
  },
  {
   "cell_type": "code",
   "execution_count": 20,
   "id": "9cc63894-f972-4bcb-83eb-38e33d97fb0d",
   "metadata": {},
   "outputs": [
    {
     "ename": "TypeError",
     "evalue": "'str' object does not support item assignment",
     "output_type": "error",
     "traceback": [
      "\u001b[1;31m---------------------------------------------------------------------------\u001b[0m",
      "\u001b[1;31mTypeError\u001b[0m                                 Traceback (most recent call last)",
      "Cell \u001b[1;32mIn[20], line 1\u001b[0m\n\u001b[1;32m----> 1\u001b[0m str1[\u001b[38;5;241m0\u001b[39m:\u001b[38;5;241m5\u001b[39m] \u001b[38;5;241m=\u001b[39m \u001b[38;5;124m'\u001b[39m\u001b[38;5;124mholla\u001b[39m\u001b[38;5;124m'\u001b[39m\n",
      "\u001b[1;31mTypeError\u001b[0m: 'str' object does not support item assignment"
     ]
    }
   ],
   "source": [
    "str1[0:5] = 'holla'"
   ]
  },
  {
   "cell_type": "code",
   "execution_count": 24,
   "id": "953a4b8b-0895-4a61-887e-a22166fa126e",
   "metadata": {},
   "outputs": [
    {
     "ename": "NameError",
     "evalue": "name 'str1' is not defined",
     "output_type": "error",
     "traceback": [
      "\u001b[1;31m---------------------------------------------------------------------------\u001b[0m",
      "\u001b[1;31mNameError\u001b[0m                                 Traceback (most recent call last)",
      "Cell \u001b[1;32mIn[24], line 1\u001b[0m\n\u001b[1;32m----> 1\u001b[0m \u001b[38;5;28;01mdel\u001b[39;00m str1\n",
      "\u001b[1;31mNameError\u001b[0m: name 'str1' is not defined"
     ]
    }
   ],
   "source": [
    "del str1"
   ]
  },
  {
   "cell_type": "code",
   "execution_count": 26,
   "id": "f6c31fa8-7e04-4b09-9d33-7363afd70b46",
   "metadata": {},
   "outputs": [
    {
     "data": {
      "text/plain": [
       "'a3max'"
      ]
     },
     "execution_count": 26,
     "metadata": {},
     "output_type": "execute_result"
    }
   ],
   "source": [
    "index"
   ]
  },
  {
   "cell_type": "code",
   "execution_count": 27,
   "id": "f4534027-820d-4c3f-85e8-3cd0bfd79169",
   "metadata": {},
   "outputs": [
    {
     "data": {
      "text/plain": [
       "'a3max'"
      ]
     },
     "execution_count": 27,
     "metadata": {},
     "output_type": "execute_result"
    }
   ],
   "source": [
    "index[0:10]"
   ]
  },
  {
   "cell_type": "code",
   "execution_count": 28,
   "id": "8b0db0cf-d0b6-4f41-9fcf-5686eb91bdcd",
   "metadata": {},
   "outputs": [
    {
     "ename": "IndexError",
     "evalue": "string index out of range",
     "output_type": "error",
     "traceback": [
      "\u001b[1;31m---------------------------------------------------------------------------\u001b[0m",
      "\u001b[1;31mIndexError\u001b[0m                                Traceback (most recent call last)",
      "Cell \u001b[1;32mIn[28], line 1\u001b[0m\n\u001b[1;32m----> 1\u001b[0m index[\u001b[38;5;241m10\u001b[39m]\n",
      "\u001b[1;31mIndexError\u001b[0m: string index out of range"
     ]
    }
   ],
   "source": [
    "index[10]"
   ]
  },
  {
   "cell_type": "code",
   "execution_count": 30,
   "id": "31287e68-cfb3-41fa-a920-de0203c479f8",
   "metadata": {},
   "outputs": [
    {
     "data": {
      "text/plain": [
       "'amx'"
      ]
     },
     "execution_count": 30,
     "metadata": {},
     "output_type": "execute_result"
    }
   ],
   "source": [
    "index[0:10:2] #step indexing"
   ]
  },
  {
   "cell_type": "code",
   "execution_count": 31,
   "id": "f2502042-eed9-48f9-9062-cf6583a1119f",
   "metadata": {},
   "outputs": [
    {
     "data": {
      "text/plain": [
       "'ax'"
      ]
     },
     "execution_count": 31,
     "metadata": {},
     "output_type": "execute_result"
    }
   ],
   "source": [
    "index[0:5:4]"
   ]
  },
  {
   "cell_type": "code",
   "execution_count": 32,
   "id": "cdb65b3d-f963-4179-b92e-bc3c12507717",
   "metadata": {},
   "outputs": [
    {
     "data": {
      "text/plain": [
       "'newtest'"
      ]
     },
     "execution_count": 32,
     "metadata": {},
     "output_type": "execute_result"
    }
   ],
   "source": [
    "'new' 'test'"
   ]
  },
  {
   "cell_type": "code",
   "execution_count": 34,
   "id": "83081055-fbe3-4633-b420-347cdc329e57",
   "metadata": {},
   "outputs": [
    {
     "data": {
      "text/plain": [
       "'new test'"
      ]
     },
     "execution_count": 34,
     "metadata": {},
     "output_type": "execute_result"
    }
   ],
   "source": [
    "'new ' + 'test'"
   ]
  },
  {
   "cell_type": "code",
   "execution_count": null,
   "id": "ca8807d5-a210-445f-a714-5cdfc545fa27",
   "metadata": {},
   "outputs": [],
   "source": []
  },
  {
   "cell_type": "markdown",
   "id": "b3ee6e23-428a-4667-806f-1d820dd03b8c",
   "metadata": {},
   "source": [
    "# print() function"
   ]
  },
  {
   "cell_type": "code",
   "execution_count": 38,
   "id": "f0e60d69-d480-491e-8e83-b6c696811428",
   "metadata": {},
   "outputs": [
    {
     "data": {
      "text/plain": [
       "6"
      ]
     },
     "execution_count": 38,
     "metadata": {},
     "output_type": "execute_result"
    }
   ],
   "source": [
    "x=5\n",
    "y=6\n",
    "x\n",
    "y"
   ]
  },
  {
   "cell_type": "code",
   "execution_count": 36,
   "id": "6542c3a0-f50c-4660-9553-1e6bedcd7d21",
   "metadata": {},
   "outputs": [
    {
     "name": "stdout",
     "output_type": "stream",
     "text": [
      "5\n",
      "6\n"
     ]
    }
   ],
   "source": [
    "print(x)\n",
    "print(y)"
   ]
  },
  {
   "cell_type": "code",
   "execution_count": 37,
   "id": "832d14f4-3fa8-4885-b5f4-f49866ffb4b8",
   "metadata": {},
   "outputs": [
    {
     "name": "stdout",
     "output_type": "stream",
     "text": [
      "30\n"
     ]
    }
   ],
   "source": [
    "print(x*y)"
   ]
  },
  {
   "cell_type": "code",
   "execution_count": 44,
   "id": "d2331b19-b9b9-414f-82b3-772ef034253d",
   "metadata": {},
   "outputs": [
    {
     "name": "stdout",
     "output_type": "stream",
     "text": [
      "1\n",
      "1 2\n",
      "python\n",
      "1 2 python\n"
     ]
    }
   ],
   "source": [
    " print(1)\n",
    "print(1 , 2)\n",
    "print('python')\n",
    "print('1', '2' , 'python')"
   ]
  },
  {
   "cell_type": "code",
   "execution_count": 45,
   "id": "6716f618-3234-477e-a9b4-2b0eeb425721",
   "metadata": {},
   "outputs": [
    {
     "name": "stdout",
     "output_type": "stream",
     "text": [
      "30\n"
     ]
    }
   ],
   "source": [
    "n1 = 10\n",
    "n2 = 20\n",
    "n3 = n1 + n2\n",
    "print(n3)"
   ]
  },
  {
   "cell_type": "code",
   "execution_count": 49,
   "id": "dda194b4-fa43-4e56-a323-80afa6c1d68d",
   "metadata": {},
   "outputs": [
    {
     "name": "stdout",
     "output_type": "stream",
     "text": [
      "first number is 10 , second number is 20 and sum is 30\n"
     ]
    }
   ],
   "source": [
    "print('first number is', n1, ', second number is', n2, 'and sum is', n3)"
   ]
  },
  {
   "cell_type": "code",
   "execution_count": null,
   "id": "86b3c32f-2ae7-4869-a67a-6dc259671e39",
   "metadata": {},
   "outputs": [],
   "source": []
  },
  {
   "cell_type": "markdown",
   "id": "b3d8c0ec-e673-4ddf-846a-83807e0f3fe6",
   "metadata": {},
   "source": [
    "# print format method"
   ]
  },
  {
   "cell_type": "code",
   "execution_count": 55,
   "id": "eb815a68-3668-4f1c-9338-cd3132666dc6",
   "metadata": {},
   "outputs": [
    {
     "name": "stdout",
     "output_type": "stream",
     "text": [
      "The addition of 10 and 20 is = 30\n"
     ]
    }
   ],
   "source": [
    "n1 = 10\n",
    "n2 = 20\n",
    "n3 = n1 + n2\n",
    "print('The addition of {} and {} is = {}'.format(n1, n2, n3))"
   ]
  },
  {
   "cell_type": "code",
   "execution_count": null,
   "id": "5cca0899-45d2-4fca-b53d-9bb60ae7fa58",
   "metadata": {},
   "outputs": [],
   "source": []
  },
  {
   "cell_type": "markdown",
   "id": "7e202546-fa66-4ad9-8459-77bddd9a814b",
   "metadata": {},
   "source": [
    "# print with end statement"
   ]
  },
  {
   "cell_type": "code",
   "execution_count": 56,
   "id": "4584e3f1-8154-4020-ba47-b3a9cce95cc7",
   "metadata": {},
   "outputs": [
    {
     "name": "stdout",
     "output_type": "stream",
     "text": [
      "hi\n",
      "good morning\n"
     ]
    }
   ],
   "source": [
    "print('hi')\n",
    "print('good morning')\n"
   ]
  },
  {
   "cell_type": "code",
   "execution_count": 57,
   "id": "e036fa24-8345-4be0-bdb7-e514f36da2c4",
   "metadata": {},
   "outputs": [
    {
     "name": "stdout",
     "output_type": "stream",
     "text": [
      "hi good morning\n"
     ]
    }
   ],
   "source": [
    "print('hi', end = '') # stop to print the new line\n",
    "print(' good morning')"
   ]
  },
  {
   "cell_type": "code",
   "execution_count": null,
   "id": "3b4d3e6b-989a-4b8d-ace2-64d02d1d39eb",
   "metadata": {},
   "outputs": [],
   "source": []
  },
  {
   "cell_type": "code",
   "execution_count": null,
   "id": "bf6a94d4-4206-477b-95f1-17f2b65ba169",
   "metadata": {},
   "outputs": [],
   "source": []
  },
  {
   "cell_type": "code",
   "execution_count": null,
   "id": "5a0cd5fa-8943-442f-aed9-06d10add0791",
   "metadata": {},
   "outputs": [],
   "source": []
  },
  {
   "cell_type": "code",
   "execution_count": null,
   "id": "0d226601-0584-4744-b272-e6a1918889c1",
   "metadata": {},
   "outputs": [],
   "source": []
  },
  {
   "cell_type": "code",
   "execution_count": null,
   "id": "af7e6b2f-ee91-40d8-9906-eea242a1f1f3",
   "metadata": {},
   "outputs": [],
   "source": []
  },
  {
   "cell_type": "code",
   "execution_count": null,
   "id": "52d6833d-42b2-46cc-8407-4faaaf6c3f8b",
   "metadata": {},
   "outputs": [],
   "source": []
  },
  {
   "cell_type": "code",
   "execution_count": null,
   "id": "b5749bc5-e43e-4c7f-9878-9f9846398347",
   "metadata": {},
   "outputs": [],
   "source": []
  },
  {
   "cell_type": "code",
   "execution_count": null,
   "id": "9734ad57-141f-4980-8104-1172ac902ede",
   "metadata": {},
   "outputs": [],
   "source": []
  },
  {
   "cell_type": "code",
   "execution_count": null,
   "id": "e516d187-c2fd-4144-b18a-c67d40fe7cd7",
   "metadata": {},
   "outputs": [],
   "source": []
  }
 ],
 "metadata": {
  "kernelspec": {
   "display_name": "Python 3 (ipykernel)",
   "language": "python",
   "name": "python3"
  },
  "language_info": {
   "codemirror_mode": {
    "name": "ipython",
    "version": 3
   },
   "file_extension": ".py",
   "mimetype": "text/x-python",
   "name": "python",
   "nbconvert_exporter": "python",
   "pygments_lexer": "ipython3",
   "version": "3.13.5"
  }
 },
 "nbformat": 4,
 "nbformat_minor": 5
}
